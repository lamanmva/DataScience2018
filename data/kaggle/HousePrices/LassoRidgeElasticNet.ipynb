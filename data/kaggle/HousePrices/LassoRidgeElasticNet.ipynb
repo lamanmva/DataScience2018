{
  "cells": [
    {
      "metadata": {
        "_cell_guid": "4f6f428a-fbe8-4643-47a1-806dfe6cef61",
        "_uuid": "440e63e228006431f8e76605c7fcaed5bbbce0e8"
      },
      "cell_type": "markdown",
      "source": ""
    },
    {
      "metadata": {
        "_cell_guid": "cfeaca5d-7132-d935-5b5d-07d647d541e7",
        "_uuid": "6772998d8c71b3996d55b411989ef6686aba84b4",
        "trusted": false
      },
      "cell_type": "code",
      "source": "import pandas as pd\nimport numpy as np\nimport matplotlib.pyplot as plt\nimport seaborn as sns\n%matplotlib inline",
      "execution_count": null,
      "outputs": []
    },
    {
      "metadata": {
        "_cell_guid": "290cefcc-ce07-956a-b4a6-743733bce6b1",
        "_uuid": "60dca23075db59e893cbc3c64976ba8d028df2fd",
        "trusted": false
      },
      "cell_type": "code",
      "source": "sns.set_style('white')",
      "execution_count": null,
      "outputs": []
    },
    {
      "metadata": {
        "_cell_guid": "b6fc064d-7c38-4444-f2bf-5f733733dee3",
        "_uuid": "12b872c9b1760bc844402d1abb7a8a0211881962",
        "trusted": false
      },
      "cell_type": "code",
      "source": "# load data\ntrain = pd.read_csv('../input/train.csv', index_col='Id')\ntest = pd.read_csv('../input/test.csv', index_col='Id')\ntrain.tail()",
      "execution_count": null,
      "outputs": []
    },
    {
      "metadata": {
        "_cell_guid": "a23629ae-b8ae-9aa1-964c-bd14964e9ae0",
        "_uuid": "9fc6e47460a8cd3dcd2c1443d40c905b57acd665",
        "trusted": false
      },
      "cell_type": "code",
      "source": "# convert int values to str for specific features\nfor categ in ['MSSubClass', 'OverallQual', 'OverallCond']:\n    train[categ] = train[categ].astype(str)\n    test[categ] = test[categ].astype(str)",
      "execution_count": null,
      "outputs": []
    },
    {
      "metadata": {
        "_cell_guid": "0fc9a1e5-e9c2-72d6-aa24-152a76ffec24",
        "_uuid": "82cce5688f20f887a1dd794156d271fe2a84fcdb",
        "trusted": false
      },
      "cell_type": "code",
      "source": "sns.distplot(train['SalePrice'])",
      "execution_count": null,
      "outputs": []
    },
    {
      "metadata": {
        "_cell_guid": "488b9099-1730-ae0e-e3d9-d5f4305c8988",
        "_uuid": "277c43a784acfd4f6baa7b19fdf311d18260418a",
        "trusted": false
      },
      "cell_type": "code",
      "source": "# show features with count of NaN values\ns = train.isnull().sum() + test.isnull().sum()\ns = s.sort_values(ascending=False)\ns = s[s > 0]\ns",
      "execution_count": null,
      "outputs": []
    },
    {
      "metadata": {
        "_cell_guid": "da99ecd4-a0c4-8d9c-3862-e306daebaa3c",
        "_uuid": "ebc25768d8651a95c54fe4bcfb3cf04e83043a62",
        "trusted": false
      },
      "cell_type": "code",
      "source": "# unique names for features with NaN values\nfor i in s.index:\n    print(i, train[i].unique().tolist()[:10])",
      "execution_count": null,
      "outputs": []
    },
    {
      "metadata": {
        "_cell_guid": "8353def6-2076-a70d-2610-a66bb6621e27",
        "_uuid": "1a741ae1b9228e9619a9c6bfaf5a70732a55803e",
        "trusted": false
      },
      "cell_type": "code",
      "source": "for feature in ['GarageYrBlt', 'LotFrontage', 'MasVnrArea', 'BsmtFullBath',\n                'BsmtFinSF1', 'GarageArea', 'BsmtFinSF2', 'TotalBsmtSF',\n                'BsmtUnfSF', 'BsmtHalfBath', 'GarageCars']:\n    train[feature] = train[feature].fillna(train[feature].mean())\n    test[feature] = test[feature].fillna(test[feature].mean())\n\nfor feature in ['PoolQC', 'MiscFeature', 'Alley', 'Fence', 'FireplaceQu',\n                'GarageType', 'GarageCond', 'GarageFinish', 'GarageQual',\n                'BsmtFinType2','BsmtExposure', 'BsmtQual', 'BsmtCond', 'BsmtFinType1',\n                'Electrical', 'MSZoning', 'Functional', 'Utilities', 'KitchenQual',\n                'SaleType', 'Exterior1st', 'Exterior2nd'\n               ]:\n    train[feature] = train[feature].fillna('NaN')\n    test[feature] = test[feature].fillna('NaN')\n    \nfor feature in ['MasVnrType']:\n    train[feature] = train[feature].fillna('None')\n    test[feature] = test[feature].fillna('None')",
      "execution_count": null,
      "outputs": []
    },
    {
      "metadata": {
        "_cell_guid": "bbdffbb3-b8ca-ff93-51db-1dbc17108f03",
        "_uuid": "06f4a27a711bc0a958bb2d2a2993d88797e0afaa",
        "trusted": false
      },
      "cell_type": "code",
      "source": "# check NaN values\ns = train.isnull().sum() + test.isnull().sum()\ns = s.sort_values(ascending=False)\ns = s[s > 0]\ns",
      "execution_count": null,
      "outputs": []
    },
    {
      "metadata": {
        "_cell_guid": "99efbbb8-3450-473d-2e1f-5e3a10a8a365",
        "_uuid": "a703b32cddf524ea77d0f47dbaeaaac9d09906bb",
        "trusted": false
      },
      "cell_type": "code",
      "source": "# select features for category \nd = train.dtypes.groupby(train.dtypes).groups\ncategory = d[np.dtype('O')].tolist() + ['MSSubClass', 'OverallQual', 'OverallCond']\n# category",
      "execution_count": null,
      "outputs": []
    },
    {
      "metadata": {
        "_cell_guid": "6c602e81-99f7-6eb8-f6ce-da037b4b69e5",
        "_uuid": "7d485d9d1f50fb06c69e30194316b4254ca3d216",
        "trusted": false
      },
      "cell_type": "code",
      "source": "from sklearn.preprocessing import StandardScaler\nfrom sklearn.feature_extraction import DictVectorizer",
      "execution_count": null,
      "outputs": []
    },
    {
      "metadata": {
        "_cell_guid": "c9715d6e-f625-8b76-fdce-5a57351c0db7",
        "_uuid": "290415b7a9259bda23b0c75e13a6e5c3dba66876",
        "trusted": false
      },
      "cell_type": "code",
      "source": "# fit DictVectorizer and StandardScaler on whole data\nwhole_data = pd.concat([train.drop('SalePrice', axis=1).iloc[0:-1], test], axis=0)\n\nvec = DictVectorizer()\nvec.fit(whole_data[category].to_dict('records'))\n\nscaler = StandardScaler()\nscaler.fit(whole_data.drop(category, axis=1))",
      "execution_count": null,
      "outputs": []
    },
    {
      "metadata": {
        "_cell_guid": "2ff40aa9-cbcc-b4d6-62ca-723b71387f1e",
        "_uuid": "90f61dace24290fee78e437f78b1a22408b2f4f5",
        "trusted": false
      },
      "cell_type": "code",
      "source": "train_without_category = train.drop(category + ['SalePrice'], axis=1)\n# create DataFrame with category features\nX_category = vec.transform(train[category].to_dict('records'))\ntrain_category = pd.DataFrame(X_category.toarray(), columns=vec.feature_names_)\nX_scale = scaler.transform(train_without_category)\n# create DataFrame with scaled features\ntrain_scale = pd.DataFrame(X_scale, columns=train_without_category.columns)\n# create final train DataFrame \ntrain_final = pd.concat([train_scale, train_category], axis=1)\ntrain_final.tail()",
      "execution_count": null,
      "outputs": []
    },
    {
      "metadata": {
        "_cell_guid": "e1d81bd7-3013-d264-c8bb-6d81dcd2faee",
        "_uuid": "8f7242aa796fb183e54c25136a531357fba817f5",
        "trusted": false
      },
      "cell_type": "code",
      "source": "X_category = vec.transform(test[category].to_dict('records'))\n# create DataFrame with category features\ntest_category = pd.DataFrame(X_category.toarray(), columns=vec.feature_names_)\ntest_without_category = test.drop(category, axis=1)\nX_scale = scaler.transform(test_without_category)\n# create DataFrame with scaled features\ntest_scale = pd.DataFrame(X_scale, columns=test_without_category.columns)\n# create final test DataFrame \ntest_final = pd.concat([test_scale, test_category], axis=1)\ntest_final.tail()",
      "execution_count": null,
      "outputs": []
    },
    {
      "metadata": {
        "_cell_guid": "f595381f-7ca3-c33c-29ac-05ae61649837",
        "_uuid": "3bf291c96332c751b60bff7fe7a9087567479ca3",
        "trusted": false
      },
      "cell_type": "code",
      "source": "plt.title('train')\n_  = plt.plot(train_final)\nplt.show()\nplt.title('test')\n_  = plt.plot(test_final)",
      "execution_count": null,
      "outputs": []
    },
    {
      "metadata": {
        "_cell_guid": "d6ba05f2-1185-42db-ca2f-d8f671c79ec7",
        "_uuid": "b3581745294d59e8586e0dc6d13b0ae13dbdc526",
        "trusted": false
      },
      "cell_type": "code",
      "source": "## Log transformation of y\nX_train, y_train = train_final.values, np.log(train['SalePrice'].values)\nX_test = test_final.values",
      "execution_count": null,
      "outputs": []
    },
    {
      "metadata": {
        "_cell_guid": "0b9401b9-a42d-097a-3fcc-bfe90c1586c6",
        "_uuid": "fcd40b311995fe5f608ecdaba1ae988d2a59531d",
        "trusted": false
      },
      "cell_type": "code",
      "source": "from sklearn.linear_model import Lasso\nfrom sklearn.linear_model import LassoCV\nfrom sklearn.linear_model import Ridge\nfrom sklearn.linear_model import RidgeCV\nfrom sklearn.linear_model import ElasticNet\nfrom sklearn.linear_model import ElasticNetCV",
      "execution_count": null,
      "outputs": []
    },
    {
      "metadata": {
        "_cell_guid": "7069cd21-30f9-976a-b55e-62d8e9ba5f7e",
        "_uuid": "104cda347dcd13170535253f9b7e4b988b73d7bc",
        "trusted": false
      },
      "cell_type": "code",
      "source": "# dict with optimal models\nmodels = {}\n# find optimal value of alpha \nn_trials = 100\nalpha_list = 10 ** np.linspace(-5, 5, n_trials)\n# number of folds for cross validation\ncv = 5\n# find optimal value of l1 (for ElasticNet)\nl1_list = 10 ** np.linspace(-2, 0, 50)\nmax_iter = 5000",
      "execution_count": null,
      "outputs": []
    },
    {
      "metadata": {
        "_cell_guid": "747a21ca-cea4-2ed8-149b-dc60fd21bda4",
        "_uuid": "30fe43cb36c2f1748f28e0fdb28d06c7f063bc9e",
        "trusted": false
      },
      "cell_type": "code",
      "source": "# find optimal Lasso model\nclf = LassoCV(alphas=alpha_list, cv=cv, n_jobs=-1, random_state=1, max_iter=max_iter)\nclf.fit(X_train, y_train)\nmodels['Lasso'] = Lasso(alpha=clf.alpha_, max_iter=max_iter)",
      "execution_count": null,
      "outputs": []
    },
    {
      "metadata": {
        "_cell_guid": "647d4afc-3531-0e42-43d7-5e027024136a",
        "_uuid": "a379b527ab22096313395b8ec501ae93d68b3088",
        "trusted": false
      },
      "cell_type": "code",
      "source": "# find optimal Ridge model\nclf = RidgeCV(alphas=alpha_list, cv=cv)\nclf.fit(X_train, y_train)\nmodels['Ridge'] = Ridge(alpha=clf.alpha_)",
      "execution_count": null,
      "outputs": []
    },
    {
      "metadata": {
        "_cell_guid": "1b7afc35-6642-7dfb-c1dd-76fb8c6fbc3c",
        "_uuid": "f1e5b547688d438aee503c75cbf394f05f0d8b11",
        "trusted": false
      },
      "cell_type": "code",
      "source": "# find optimal ElasticNet model\nclf = ElasticNetCV(alphas=alpha_list, l1_ratio=l1_list,\n                   cv=cv, random_state=1, n_jobs=-1, max_iter=max_iter)\nclf.fit(X_train, y_train)\nmodels['ElasticNet'] = ElasticNet(alpha=clf.alpha_, l1_ratio=clf.l1_ratio_, max_iter=max_iter)",
      "execution_count": null,
      "outputs": []
    },
    {
      "metadata": {
        "_cell_guid": "c6d3d4d9-f755-3b57-3b24-ef0cdb6a46d4",
        "_uuid": "e23c2f68b7600d862aeb7c89eff60a806f95ec2b",
        "trusted": false
      },
      "cell_type": "code",
      "source": "from sklearn.model_selection import KFold\nfrom sklearn.metrics import mean_squared_error",
      "execution_count": null,
      "outputs": []
    },
    {
      "metadata": {
        "_cell_guid": "efad23e9-c84d-ed30-9dff-fcf44e434644",
        "_uuid": "fd75cb3d89c3ac6beff1e465e2020239e56f8ddd",
        "trusted": false
      },
      "cell_type": "code",
      "source": "# final cross validation between models\nkf = KFold(cv, shuffle=True, random_state=1)\n\nscore = {}\nfor name in models:\n    # save score for each model\n    if name not in score:\n        score[name] = []\n    clf = models[name]\n    for i_train, i_test in kf.split(X_train):\n        clf.fit(X_train[i_train], y_train[i_train])\n        y_pred = clf.predict(X_train[i_test])\n        RMSE = np.sqrt(mean_squared_error(y_train[i_test], y_pred))\n        score[name].append(RMSE)\n# results for all models\nresults = pd.DataFrame(score)",
      "execution_count": null,
      "outputs": []
    },
    {
      "metadata": {
        "_cell_guid": "c6c3884f-77ed-d656-5148-235ae06a9ac9",
        "_uuid": "e9ccb5acb1fcfc0b11927d061bbba2c6bc589810",
        "trusted": false
      },
      "cell_type": "code",
      "source": "for key in results:\n    _ = plt.plot(results[key], label=key)\nplt.legend()\npd.concat([results.mean(), results.std()], axis=1, keys=['mean', 'std'])",
      "execution_count": null,
      "outputs": []
    },
    {
      "metadata": {
        "_cell_guid": "a9250dee-fadb-010b-a052-db2b3af3f1ae",
        "_uuid": "df55c6211ee8bcdb222ec47c62303da57884a34f",
        "trusted": false
      },
      "cell_type": "code",
      "source": "# create drop_features list with features with l1 coef_ == 0\ns = pd.Series(dict(zip(train_final.columns, models['ElasticNet'].coef_))).abs().sort_values(ascending=True)\ndrop_features = s[s == 0].index.tolist()\nlen(drop_features)",
      "execution_count": null,
      "outputs": []
    },
    {
      "metadata": {
        "_cell_guid": "22b0c1de-8414-5ede-b6eb-e91c7c52ebee",
        "_uuid": "e0b71f279cfec5ec04e453845fae4b72f22fb8a6",
        "trusted": false
      },
      "cell_type": "code",
      "source": "# remove some features and create new train and test\nX_train = train_final.drop(drop_features, axis=1).values\nX_test = test_final.drop(drop_features, axis=1)\n# create final model for submission\nclf = models['ElasticNet'].fit(X_train, y_train)\ny_pred = clf.predict(X_train)\n# show score\nnp.sqrt(mean_squared_error(y_train, y_pred))",
      "execution_count": null,
      "outputs": []
    },
    {
      "metadata": {
        "_cell_guid": "bf46e96c-5a20-52e1-a580-d4f5fc1e2881",
        "_uuid": "ee103fd0f48baff684325d7376c3975b0d4eddb2",
        "trusted": false
      },
      "cell_type": "code",
      "source": "# create submission with best model\ny_pred = clf.predict(X_test)\npred_df = pd.DataFrame(np.exp(y_pred), index=test.index, columns=[\"SalePrice\"])\npred_df.to_csv('submission.csv', header=True, index_label='Id')",
      "execution_count": null,
      "outputs": []
    },
    {
      "metadata": {
        "_cell_guid": "25a0edb7-fcfd-9223-44fc-71c126358e9a",
        "_uuid": "917f29c29a19028048a9cff12e81fae37529a5a3",
        "trusted": false
      },
      "cell_type": "code",
      "source": "# comments are welcome)",
      "execution_count": null,
      "outputs": []
    }
  ],
  "metadata": {
    "_change_revision": 0,
    "_is_fork": false,
    "kernelspec": {
      "display_name": "Python 3",
      "language": "python",
      "name": "python3"
    },
    "language_info": {
      "name": "python",
      "version": "3.6.6",
      "mimetype": "text/x-python",
      "codemirror_mode": {
        "name": "ipython",
        "version": 3
      },
      "pygments_lexer": "ipython3",
      "nbconvert_exporter": "python",
      "file_extension": ".py"
    }
  },
  "nbformat": 4,
  "nbformat_minor": 1
}