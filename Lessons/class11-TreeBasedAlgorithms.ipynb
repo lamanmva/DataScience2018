{
 "cells": [
  {
   "cell_type": "markdown",
   "metadata": {},
   "source": [
    "# class 11 - Tree-based Methods"
   ]
  },
  {
   "cell_type": "markdown",
   "metadata": {},
   "source": [
    "- [11.1 Review: Regression Trees](#11.1-Review:-Regression-Trees)\n",
    "- [11.2 Bagging](#11.2-Bagging)\n",
    "- [11.3 Random Forests](#11.3-Random-Forests)\n",
    "- [11.4 Boosting](#11.4-Boosting)"
   ]
  },
  {
   "cell_type": "code",
   "execution_count": 1,
   "metadata": {},
   "outputs": [
    {
     "name": "stderr",
     "output_type": "stream",
     "text": [
      "C:\\ProgramData\\Anaconda3\\lib\\site-packages\\sklearn\\ensemble\\weight_boosting.py:29: DeprecationWarning: numpy.core.umath_tests is an internal NumPy module and should not be imported. It will be removed in a future NumPy release.\n",
      "  from numpy.core.umath_tests import inner1d\n"
     ]
    }
   ],
   "source": [
    "# %load ../standard_import.txt\n",
    "import pandas as pd\n",
    "import numpy as np\n",
    "import matplotlib.pyplot as plt\n",
    "import seaborn as sns\n",
    "\n",
    "import pydot\n",
    "from IPython.display import Image\n",
    "\n",
    "from sklearn.model_selection import train_test_split, cross_val_score\n",
    "from sklearn.externals.six import StringIO  \n",
    "from sklearn.tree import DecisionTreeRegressor, DecisionTreeClassifier, export_graphviz\n",
    "from sklearn.ensemble import BaggingClassifier, RandomForestClassifier, BaggingRegressor, RandomForestRegressor, GradientBoostingRegressor\n",
    "from sklearn.metrics import mean_squared_error,confusion_matrix, classification_report\n",
    "\n",
    "from sklearn import tree\n",
    "import graphviz\n",
    "\n",
    "%matplotlib inline\n",
    "plt.style.use('seaborn-white')"
   ]
  },
  {
   "cell_type": "markdown",
   "metadata": {},
   "source": [
    "### Good explanations and examples at\n",
    "\n",
    "https://scikit-learn.org/stable/modules/tree.html\n"
   ]
  },
  {
   "cell_type": "markdown",
   "metadata": {},
   "source": [
    "### 11.1 Review: Regression Trees"
   ]
  },
  {
   "cell_type": "markdown",
   "metadata": {},
   "source": [
    "Boston data from R"
   ]
  },
  {
   "cell_type": "code",
   "execution_count": 24,
   "metadata": {},
   "outputs": [
    {
     "data": {
      "text/html": [
       "<div>\n",
       "<style scoped>\n",
       "    .dataframe tbody tr th:only-of-type {\n",
       "        vertical-align: middle;\n",
       "    }\n",
       "\n",
       "    .dataframe tbody tr th {\n",
       "        vertical-align: top;\n",
       "    }\n",
       "\n",
       "    .dataframe thead th {\n",
       "        text-align: right;\n",
       "    }\n",
       "</style>\n",
       "<table border=\"1\" class=\"dataframe\">\n",
       "  <thead>\n",
       "    <tr style=\"text-align: right;\">\n",
       "      <th></th>\n",
       "      <th>crim</th>\n",
       "      <th>zn</th>\n",
       "      <th>indus</th>\n",
       "      <th>chas</th>\n",
       "      <th>nox</th>\n",
       "      <th>rm</th>\n",
       "      <th>age</th>\n",
       "      <th>dis</th>\n",
       "      <th>rad</th>\n",
       "      <th>tax</th>\n",
       "      <th>ptratio</th>\n",
       "      <th>black</th>\n",
       "      <th>lstat</th>\n",
       "      <th>medv</th>\n",
       "    </tr>\n",
       "  </thead>\n",
       "  <tbody>\n",
       "    <tr>\n",
       "      <th>0</th>\n",
       "      <td>0.00632</td>\n",
       "      <td>18.0</td>\n",
       "      <td>2.31</td>\n",
       "      <td>0</td>\n",
       "      <td>0.538</td>\n",
       "      <td>6.575</td>\n",
       "      <td>65.2</td>\n",
       "      <td>4.0900</td>\n",
       "      <td>1</td>\n",
       "      <td>296</td>\n",
       "      <td>15.3</td>\n",
       "      <td>396.90</td>\n",
       "      <td>4.98</td>\n",
       "      <td>24.0</td>\n",
       "    </tr>\n",
       "    <tr>\n",
       "      <th>1</th>\n",
       "      <td>0.02731</td>\n",
       "      <td>0.0</td>\n",
       "      <td>7.07</td>\n",
       "      <td>0</td>\n",
       "      <td>0.469</td>\n",
       "      <td>6.421</td>\n",
       "      <td>78.9</td>\n",
       "      <td>4.9671</td>\n",
       "      <td>2</td>\n",
       "      <td>242</td>\n",
       "      <td>17.8</td>\n",
       "      <td>396.90</td>\n",
       "      <td>9.14</td>\n",
       "      <td>21.6</td>\n",
       "    </tr>\n",
       "    <tr>\n",
       "      <th>2</th>\n",
       "      <td>0.02729</td>\n",
       "      <td>0.0</td>\n",
       "      <td>7.07</td>\n",
       "      <td>0</td>\n",
       "      <td>0.469</td>\n",
       "      <td>7.185</td>\n",
       "      <td>61.1</td>\n",
       "      <td>4.9671</td>\n",
       "      <td>2</td>\n",
       "      <td>242</td>\n",
       "      <td>17.8</td>\n",
       "      <td>392.83</td>\n",
       "      <td>4.03</td>\n",
       "      <td>34.7</td>\n",
       "    </tr>\n",
       "    <tr>\n",
       "      <th>3</th>\n",
       "      <td>0.03237</td>\n",
       "      <td>0.0</td>\n",
       "      <td>2.18</td>\n",
       "      <td>0</td>\n",
       "      <td>0.458</td>\n",
       "      <td>6.998</td>\n",
       "      <td>45.8</td>\n",
       "      <td>6.0622</td>\n",
       "      <td>3</td>\n",
       "      <td>222</td>\n",
       "      <td>18.7</td>\n",
       "      <td>394.63</td>\n",
       "      <td>2.94</td>\n",
       "      <td>33.4</td>\n",
       "    </tr>\n",
       "    <tr>\n",
       "      <th>4</th>\n",
       "      <td>0.06905</td>\n",
       "      <td>0.0</td>\n",
       "      <td>2.18</td>\n",
       "      <td>0</td>\n",
       "      <td>0.458</td>\n",
       "      <td>7.147</td>\n",
       "      <td>54.2</td>\n",
       "      <td>6.0622</td>\n",
       "      <td>3</td>\n",
       "      <td>222</td>\n",
       "      <td>18.7</td>\n",
       "      <td>396.90</td>\n",
       "      <td>5.33</td>\n",
       "      <td>36.2</td>\n",
       "    </tr>\n",
       "  </tbody>\n",
       "</table>\n",
       "</div>"
      ],
      "text/plain": [
       "      crim    zn  indus  chas    nox     rm   age     dis  rad  tax  ptratio  \\\n",
       "0  0.00632  18.0   2.31     0  0.538  6.575  65.2  4.0900    1  296     15.3   \n",
       "1  0.02731   0.0   7.07     0  0.469  6.421  78.9  4.9671    2  242     17.8   \n",
       "2  0.02729   0.0   7.07     0  0.469  7.185  61.1  4.9671    2  242     17.8   \n",
       "3  0.03237   0.0   2.18     0  0.458  6.998  45.8  6.0622    3  222     18.7   \n",
       "4  0.06905   0.0   2.18     0  0.458  7.147  54.2  6.0622    3  222     18.7   \n",
       "\n",
       "    black  lstat  medv  \n",
       "0  396.90   4.98  24.0  \n",
       "1  396.90   9.14  21.6  \n",
       "2  392.83   4.03  34.7  \n",
       "3  394.63   2.94  33.4  \n",
       "4  396.90   5.33  36.2  "
      ]
     },
     "execution_count": 24,
     "metadata": {},
     "output_type": "execute_result"
    }
   ],
   "source": [
    "boston_df = pd.read_csv('../data/Boston.csv')\n",
    "boston_df.head()"
   ]
  },
  {
   "cell_type": "code",
   "execution_count": 4,
   "metadata": {},
   "outputs": [],
   "source": [
    "X = boston_df.drop('medv', axis=1)\n",
    "y = boston_df.medv\n",
    "\n",
    "X_train, X_test, y_train, y_test = train_test_split(X, y, test_size=0.5, random_state=0)"
   ]
  },
  {
   "cell_type": "code",
   "execution_count": 5,
   "metadata": {},
   "outputs": [],
   "source": [
    "# Pruning not supported. Choosing max depth 3)\n",
    "regr2 = DecisionTreeRegressor(max_depth=3)\n",
    "regr2.fit(X_train, y_train)\n",
    "pred = regr2.predict(X_test)"
   ]
  },
  {
   "cell_type": "code",
   "execution_count": 6,
   "metadata": {},
   "outputs": [
    {
     "data": {
      "image/svg+xml": [
       "<?xml version=\"1.0\" encoding=\"UTF-8\" standalone=\"no\"?>\r\n",
       "<!DOCTYPE svg PUBLIC \"-//W3C//DTD SVG 1.1//EN\"\r\n",
       " \"http://www.w3.org/Graphics/SVG/1.1/DTD/svg11.dtd\">\r\n",
       "<!-- Generated by graphviz version 2.38.0 (20140413.2041)\r\n",
       " -->\r\n",
       "<!-- Title: Tree Pages: 1 -->\r\n",
       "<svg width=\"906pt\" height=\"373pt\"\r\n",
       " viewBox=\"0.00 0.00 905.50 373.00\" xmlns=\"http://www.w3.org/2000/svg\" xmlns:xlink=\"http://www.w3.org/1999/xlink\">\r\n",
       "<g id=\"graph0\" class=\"graph\" transform=\"scale(1 1) rotate(0) translate(4 369)\">\r\n",
       "<title>Tree</title>\r\n",
       "<polygon fill=\"white\" stroke=\"none\" points=\"-4,4 -4,-369 901.5,-369 901.5,4 -4,4\"/>\r\n",
       "<!-- 0 -->\r\n",
       "<g id=\"node1\" class=\"node\"><title>0</title>\r\n",
       "<polygon fill=\"none\" stroke=\"black\" points=\"491.5,-365 393.5,-365 393.5,-297 491.5,-297 491.5,-365\"/>\r\n",
       "<text text-anchor=\"middle\" x=\"442.5\" y=\"-349.8\" font-family=\"Times New Roman,serif\" font-size=\"14.00\">X[12] &lt;= 7.81</text>\r\n",
       "<text text-anchor=\"middle\" x=\"442.5\" y=\"-334.8\" font-family=\"Times New Roman,serif\" font-size=\"14.00\">mse = 92.491</text>\r\n",
       "<text text-anchor=\"middle\" x=\"442.5\" y=\"-319.8\" font-family=\"Times New Roman,serif\" font-size=\"14.00\">samples = 253</text>\r\n",
       "<text text-anchor=\"middle\" x=\"442.5\" y=\"-304.8\" font-family=\"Times New Roman,serif\" font-size=\"14.00\">value = 23.049</text>\r\n",
       "</g>\r\n",
       "<!-- 1 -->\r\n",
       "<g id=\"node2\" class=\"node\"><title>1</title>\r\n",
       "<polygon fill=\"none\" stroke=\"black\" points=\"375.5,-261 277.5,-261 277.5,-193 375.5,-193 375.5,-261\"/>\r\n",
       "<text text-anchor=\"middle\" x=\"326.5\" y=\"-245.8\" font-family=\"Times New Roman,serif\" font-size=\"14.00\">X[5] &lt;= 7.435</text>\r\n",
       "<text text-anchor=\"middle\" x=\"326.5\" y=\"-230.8\" font-family=\"Times New Roman,serif\" font-size=\"14.00\">mse = 84.345</text>\r\n",
       "<text text-anchor=\"middle\" x=\"326.5\" y=\"-215.8\" font-family=\"Times New Roman,serif\" font-size=\"14.00\">samples = 86</text>\r\n",
       "<text text-anchor=\"middle\" x=\"326.5\" y=\"-200.8\" font-family=\"Times New Roman,serif\" font-size=\"14.00\">value = 32.492</text>\r\n",
       "</g>\r\n",
       "<!-- 0&#45;&gt;1 -->\r\n",
       "<g id=\"edge1\" class=\"edge\"><title>0&#45;&gt;1</title>\r\n",
       "<path fill=\"none\" stroke=\"black\" d=\"M404.838,-296.884C394.404,-287.709 382.965,-277.65 372.13,-268.123\"/>\r\n",
       "<polygon fill=\"black\" stroke=\"black\" points=\"374.191,-265.274 364.37,-261.299 369.568,-270.531 374.191,-265.274\"/>\r\n",
       "<text text-anchor=\"middle\" x=\"365.972\" y=\"-282.548\" font-family=\"Times New Roman,serif\" font-size=\"14.00\">True</text>\r\n",
       "</g>\r\n",
       "<!-- 8 -->\r\n",
       "<g id=\"node9\" class=\"node\"><title>8</title>\r\n",
       "<polygon fill=\"none\" stroke=\"black\" points=\"607.5,-261 509.5,-261 509.5,-193 607.5,-193 607.5,-261\"/>\r\n",
       "<text text-anchor=\"middle\" x=\"558.5\" y=\"-245.8\" font-family=\"Times New Roman,serif\" font-size=\"14.00\">X[12] &lt;= 15.0</text>\r\n",
       "<text text-anchor=\"middle\" x=\"558.5\" y=\"-230.8\" font-family=\"Times New Roman,serif\" font-size=\"14.00\">mse = 27.121</text>\r\n",
       "<text text-anchor=\"middle\" x=\"558.5\" y=\"-215.8\" font-family=\"Times New Roman,serif\" font-size=\"14.00\">samples = 167</text>\r\n",
       "<text text-anchor=\"middle\" x=\"558.5\" y=\"-200.8\" font-family=\"Times New Roman,serif\" font-size=\"14.00\">value = 18.186</text>\r\n",
       "</g>\r\n",
       "<!-- 0&#45;&gt;8 -->\r\n",
       "<g id=\"edge8\" class=\"edge\"><title>0&#45;&gt;8</title>\r\n",
       "<path fill=\"none\" stroke=\"black\" d=\"M480.162,-296.884C490.596,-287.709 502.035,-277.65 512.87,-268.123\"/>\r\n",
       "<polygon fill=\"black\" stroke=\"black\" points=\"515.432,-270.531 520.63,-261.299 510.809,-265.274 515.432,-270.531\"/>\r\n",
       "<text text-anchor=\"middle\" x=\"519.028\" y=\"-282.548\" font-family=\"Times New Roman,serif\" font-size=\"14.00\">False</text>\r\n",
       "</g>\r\n",
       "<!-- 2 -->\r\n",
       "<g id=\"node3\" class=\"node\"><title>2</title>\r\n",
       "<polygon fill=\"none\" stroke=\"black\" points=\"201.5,-157 103.5,-157 103.5,-89 201.5,-89 201.5,-157\"/>\r\n",
       "<text text-anchor=\"middle\" x=\"152.5\" y=\"-141.8\" font-family=\"Times New Roman,serif\" font-size=\"14.00\">X[7] &lt;= 1.485</text>\r\n",
       "<text text-anchor=\"middle\" x=\"152.5\" y=\"-126.8\" font-family=\"Times New Roman,serif\" font-size=\"14.00\">mse = 41.903</text>\r\n",
       "<text text-anchor=\"middle\" x=\"152.5\" y=\"-111.8\" font-family=\"Times New Roman,serif\" font-size=\"14.00\">samples = 68</text>\r\n",
       "<text text-anchor=\"middle\" x=\"152.5\" y=\"-96.8\" font-family=\"Times New Roman,serif\" font-size=\"14.00\">value = 28.978</text>\r\n",
       "</g>\r\n",
       "<!-- 1&#45;&gt;2 -->\r\n",
       "<g id=\"edge2\" class=\"edge\"><title>1&#45;&gt;2</title>\r\n",
       "<path fill=\"none\" stroke=\"black\" d=\"M277.104,-197.044C256.352,-184.879 232.066,-170.642 210.473,-157.984\"/>\r\n",
       "<polygon fill=\"black\" stroke=\"black\" points=\"212.115,-154.89 201.718,-152.852 208.575,-160.929 212.115,-154.89\"/>\r\n",
       "</g>\r\n",
       "<!-- 5 -->\r\n",
       "<g id=\"node6\" class=\"node\"><title>5</title>\r\n",
       "<polygon fill=\"none\" stroke=\"black\" points=\"375.5,-157 277.5,-157 277.5,-89 375.5,-89 375.5,-157\"/>\r\n",
       "<text text-anchor=\"middle\" x=\"326.5\" y=\"-141.8\" font-family=\"Times New Roman,serif\" font-size=\"14.00\">X[10] &lt;= 15.4</text>\r\n",
       "<text text-anchor=\"middle\" x=\"326.5\" y=\"-126.8\" font-family=\"Times New Roman,serif\" font-size=\"14.00\">mse = 21.812</text>\r\n",
       "<text text-anchor=\"middle\" x=\"326.5\" y=\"-111.8\" font-family=\"Times New Roman,serif\" font-size=\"14.00\">samples = 18</text>\r\n",
       "<text text-anchor=\"middle\" x=\"326.5\" y=\"-96.8\" font-family=\"Times New Roman,serif\" font-size=\"14.00\">value = 45.767</text>\r\n",
       "</g>\r\n",
       "<!-- 1&#45;&gt;5 -->\r\n",
       "<g id=\"edge5\" class=\"edge\"><title>1&#45;&gt;5</title>\r\n",
       "<path fill=\"none\" stroke=\"black\" d=\"M326.5,-192.884C326.5,-184.778 326.5,-175.982 326.5,-167.472\"/>\r\n",
       "<polygon fill=\"black\" stroke=\"black\" points=\"330,-167.299 326.5,-157.299 323,-167.299 330,-167.299\"/>\r\n",
       "</g>\r\n",
       "<!-- 3 -->\r\n",
       "<g id=\"node4\" class=\"node\"><title>3</title>\r\n",
       "<polygon fill=\"none\" stroke=\"black\" points=\"85,-53 0,-53 0,-0 85,-0 85,-53\"/>\r\n",
       "<text text-anchor=\"middle\" x=\"42.5\" y=\"-37.8\" font-family=\"Times New Roman,serif\" font-size=\"14.00\">mse = 0.0</text>\r\n",
       "<text text-anchor=\"middle\" x=\"42.5\" y=\"-22.8\" font-family=\"Times New Roman,serif\" font-size=\"14.00\">samples = 3</text>\r\n",
       "<text text-anchor=\"middle\" x=\"42.5\" y=\"-7.8\" font-family=\"Times New Roman,serif\" font-size=\"14.00\">value = 50.0</text>\r\n",
       "</g>\r\n",
       "<!-- 2&#45;&gt;3 -->\r\n",
       "<g id=\"edge3\" class=\"edge\"><title>2&#45;&gt;3</title>\r\n",
       "<path fill=\"none\" stroke=\"black\" d=\"M114.027,-88.9485C103.059,-79.526 91.1248,-69.2731 80.2033,-59.8906\"/>\r\n",
       "<polygon fill=\"black\" stroke=\"black\" points=\"82.3241,-57.0983 72.4581,-53.2367 77.7626,-62.408 82.3241,-57.0983\"/>\r\n",
       "</g>\r\n",
       "<!-- 4 -->\r\n",
       "<g id=\"node5\" class=\"node\"><title>4</title>\r\n",
       "<polygon fill=\"none\" stroke=\"black\" points=\"201.5,-53 103.5,-53 103.5,-0 201.5,-0 201.5,-53\"/>\r\n",
       "<text text-anchor=\"middle\" x=\"152.5\" y=\"-37.8\" font-family=\"Times New Roman,serif\" font-size=\"14.00\">mse = 22.499</text>\r\n",
       "<text text-anchor=\"middle\" x=\"152.5\" y=\"-22.8\" font-family=\"Times New Roman,serif\" font-size=\"14.00\">samples = 65</text>\r\n",
       "<text text-anchor=\"middle\" x=\"152.5\" y=\"-7.8\" font-family=\"Times New Roman,serif\" font-size=\"14.00\">value = 28.008</text>\r\n",
       "</g>\r\n",
       "<!-- 2&#45;&gt;4 -->\r\n",
       "<g id=\"edge4\" class=\"edge\"><title>2&#45;&gt;4</title>\r\n",
       "<path fill=\"none\" stroke=\"black\" d=\"M152.5,-88.9485C152.5,-80.7153 152.5,-71.848 152.5,-63.4814\"/>\r\n",
       "<polygon fill=\"black\" stroke=\"black\" points=\"156,-63.2367 152.5,-53.2367 149,-63.2367 156,-63.2367\"/>\r\n",
       "</g>\r\n",
       "<!-- 6 -->\r\n",
       "<g id=\"node7\" class=\"node\"><title>6</title>\r\n",
       "<polygon fill=\"none\" stroke=\"black\" points=\"317.5,-53 219.5,-53 219.5,-0 317.5,-0 317.5,-53\"/>\r\n",
       "<text text-anchor=\"middle\" x=\"268.5\" y=\"-37.8\" font-family=\"Times New Roman,serif\" font-size=\"14.00\">mse = 5.79</text>\r\n",
       "<text text-anchor=\"middle\" x=\"268.5\" y=\"-22.8\" font-family=\"Times New Roman,serif\" font-size=\"14.00\">samples = 11</text>\r\n",
       "<text text-anchor=\"middle\" x=\"268.5\" y=\"-7.8\" font-family=\"Times New Roman,serif\" font-size=\"14.00\">value = 48.636</text>\r\n",
       "</g>\r\n",
       "<!-- 5&#45;&gt;6 -->\r\n",
       "<g id=\"edge6\" class=\"edge\"><title>5&#45;&gt;6</title>\r\n",
       "<path fill=\"none\" stroke=\"black\" d=\"M306.214,-88.9485C300.824,-80.1664 294.992,-70.6629 289.561,-61.815\"/>\r\n",
       "<polygon fill=\"black\" stroke=\"black\" points=\"292.51,-59.9287 284.296,-53.2367 286.544,-63.5903 292.51,-59.9287\"/>\r\n",
       "</g>\r\n",
       "<!-- 7 -->\r\n",
       "<g id=\"node8\" class=\"node\"><title>7</title>\r\n",
       "<polygon fill=\"none\" stroke=\"black\" points=\"433.5,-53 335.5,-53 335.5,-0 433.5,-0 433.5,-53\"/>\r\n",
       "<text text-anchor=\"middle\" x=\"384.5\" y=\"-37.8\" font-family=\"Times New Roman,serif\" font-size=\"14.00\">mse = 13.714</text>\r\n",
       "<text text-anchor=\"middle\" x=\"384.5\" y=\"-22.8\" font-family=\"Times New Roman,serif\" font-size=\"14.00\">samples = 7</text>\r\n",
       "<text text-anchor=\"middle\" x=\"384.5\" y=\"-7.8\" font-family=\"Times New Roman,serif\" font-size=\"14.00\">value = 41.257</text>\r\n",
       "</g>\r\n",
       "<!-- 5&#45;&gt;7 -->\r\n",
       "<g id=\"edge7\" class=\"edge\"><title>5&#45;&gt;7</title>\r\n",
       "<path fill=\"none\" stroke=\"black\" d=\"M346.786,-88.9485C352.176,-80.1664 358.008,-70.6629 363.439,-61.815\"/>\r\n",
       "<polygon fill=\"black\" stroke=\"black\" points=\"366.456,-63.5903 368.704,-53.2367 360.49,-59.9287 366.456,-63.5903\"/>\r\n",
       "</g>\r\n",
       "<!-- 9 -->\r\n",
       "<g id=\"node10\" class=\"node\"><title>9</title>\r\n",
       "<polygon fill=\"none\" stroke=\"black\" points=\"607.5,-157 509.5,-157 509.5,-89 607.5,-89 607.5,-157\"/>\r\n",
       "<text text-anchor=\"middle\" x=\"558.5\" y=\"-141.8\" font-family=\"Times New Roman,serif\" font-size=\"14.00\">X[5] &lt;= 6.53</text>\r\n",
       "<text text-anchor=\"middle\" x=\"558.5\" y=\"-126.8\" font-family=\"Times New Roman,serif\" font-size=\"14.00\">mse = 12.255</text>\r\n",
       "<text text-anchor=\"middle\" x=\"558.5\" y=\"-111.8\" font-family=\"Times New Roman,serif\" font-size=\"14.00\">samples = 87</text>\r\n",
       "<text text-anchor=\"middle\" x=\"558.5\" y=\"-96.8\" font-family=\"Times New Roman,serif\" font-size=\"14.00\">value = 21.566</text>\r\n",
       "</g>\r\n",
       "<!-- 8&#45;&gt;9 -->\r\n",
       "<g id=\"edge9\" class=\"edge\"><title>8&#45;&gt;9</title>\r\n",
       "<path fill=\"none\" stroke=\"black\" d=\"M558.5,-192.884C558.5,-184.778 558.5,-175.982 558.5,-167.472\"/>\r\n",
       "<polygon fill=\"black\" stroke=\"black\" points=\"562,-167.299 558.5,-157.299 555,-167.299 562,-167.299\"/>\r\n",
       "</g>\r\n",
       "<!-- 12 -->\r\n",
       "<g id=\"node13\" class=\"node\"><title>12</title>\r\n",
       "<polygon fill=\"none\" stroke=\"black\" points=\"781.5,-157 683.5,-157 683.5,-89 781.5,-89 781.5,-157\"/>\r\n",
       "<text text-anchor=\"middle\" x=\"732.5\" y=\"-141.8\" font-family=\"Times New Roman,serif\" font-size=\"14.00\">X[7] &lt;= 1.918</text>\r\n",
       "<text text-anchor=\"middle\" x=\"732.5\" y=\"-126.8\" font-family=\"Times New Roman,serif\" font-size=\"14.00\">mse = 17.363</text>\r\n",
       "<text text-anchor=\"middle\" x=\"732.5\" y=\"-111.8\" font-family=\"Times New Roman,serif\" font-size=\"14.00\">samples = 80</text>\r\n",
       "<text text-anchor=\"middle\" x=\"732.5\" y=\"-96.8\" font-family=\"Times New Roman,serif\" font-size=\"14.00\">value = 14.511</text>\r\n",
       "</g>\r\n",
       "<!-- 8&#45;&gt;12 -->\r\n",
       "<g id=\"edge12\" class=\"edge\"><title>8&#45;&gt;12</title>\r\n",
       "<path fill=\"none\" stroke=\"black\" d=\"M607.896,-197.044C628.648,-184.879 652.934,-170.642 674.527,-157.984\"/>\r\n",
       "<polygon fill=\"black\" stroke=\"black\" points=\"676.425,-160.929 683.282,-152.852 672.885,-154.89 676.425,-160.929\"/>\r\n",
       "</g>\r\n",
       "<!-- 10 -->\r\n",
       "<g id=\"node11\" class=\"node\"><title>10</title>\r\n",
       "<polygon fill=\"none\" stroke=\"black\" points=\"549.5,-53 451.5,-53 451.5,-0 549.5,-0 549.5,-53\"/>\r\n",
       "<text text-anchor=\"middle\" x=\"500.5\" y=\"-37.8\" font-family=\"Times New Roman,serif\" font-size=\"14.00\">mse = 6.248</text>\r\n",
       "<text text-anchor=\"middle\" x=\"500.5\" y=\"-22.8\" font-family=\"Times New Roman,serif\" font-size=\"14.00\">samples = 74</text>\r\n",
       "<text text-anchor=\"middle\" x=\"500.5\" y=\"-7.8\" font-family=\"Times New Roman,serif\" font-size=\"14.00\">value = 20.784</text>\r\n",
       "</g>\r\n",
       "<!-- 9&#45;&gt;10 -->\r\n",
       "<g id=\"edge10\" class=\"edge\"><title>9&#45;&gt;10</title>\r\n",
       "<path fill=\"none\" stroke=\"black\" d=\"M538.214,-88.9485C532.824,-80.1664 526.992,-70.6629 521.561,-61.815\"/>\r\n",
       "<polygon fill=\"black\" stroke=\"black\" points=\"524.51,-59.9287 516.296,-53.2367 518.544,-63.5903 524.51,-59.9287\"/>\r\n",
       "</g>\r\n",
       "<!-- 11 -->\r\n",
       "<g id=\"node12\" class=\"node\"><title>11</title>\r\n",
       "<polygon fill=\"none\" stroke=\"black\" points=\"665.5,-53 567.5,-53 567.5,-0 665.5,-0 665.5,-53\"/>\r\n",
       "<text text-anchor=\"middle\" x=\"616.5\" y=\"-37.8\" font-family=\"Times New Roman,serif\" font-size=\"14.00\">mse = 23.169</text>\r\n",
       "<text text-anchor=\"middle\" x=\"616.5\" y=\"-22.8\" font-family=\"Times New Roman,serif\" font-size=\"14.00\">samples = 13</text>\r\n",
       "<text text-anchor=\"middle\" x=\"616.5\" y=\"-7.8\" font-family=\"Times New Roman,serif\" font-size=\"14.00\">value = 26.015</text>\r\n",
       "</g>\r\n",
       "<!-- 9&#45;&gt;11 -->\r\n",
       "<g id=\"edge11\" class=\"edge\"><title>9&#45;&gt;11</title>\r\n",
       "<path fill=\"none\" stroke=\"black\" d=\"M578.786,-88.9485C584.176,-80.1664 590.008,-70.6629 595.439,-61.815\"/>\r\n",
       "<polygon fill=\"black\" stroke=\"black\" points=\"598.456,-63.5903 600.704,-53.2367 592.49,-59.9287 598.456,-63.5903\"/>\r\n",
       "</g>\r\n",
       "<!-- 13 -->\r\n",
       "<g id=\"node14\" class=\"node\"><title>13</title>\r\n",
       "<polygon fill=\"none\" stroke=\"black\" points=\"781.5,-53 683.5,-53 683.5,-0 781.5,-0 781.5,-53\"/>\r\n",
       "<text text-anchor=\"middle\" x=\"732.5\" y=\"-37.8\" font-family=\"Times New Roman,serif\" font-size=\"14.00\">mse = 13.188</text>\r\n",
       "<text text-anchor=\"middle\" x=\"732.5\" y=\"-22.8\" font-family=\"Times New Roman,serif\" font-size=\"14.00\">samples = 36</text>\r\n",
       "<text text-anchor=\"middle\" x=\"732.5\" y=\"-7.8\" font-family=\"Times New Roman,serif\" font-size=\"14.00\">value = 11.672</text>\r\n",
       "</g>\r\n",
       "<!-- 12&#45;&gt;13 -->\r\n",
       "<g id=\"edge13\" class=\"edge\"><title>12&#45;&gt;13</title>\r\n",
       "<path fill=\"none\" stroke=\"black\" d=\"M732.5,-88.9485C732.5,-80.7153 732.5,-71.848 732.5,-63.4814\"/>\r\n",
       "<polygon fill=\"black\" stroke=\"black\" points=\"736,-63.2367 732.5,-53.2367 729,-63.2367 736,-63.2367\"/>\r\n",
       "</g>\r\n",
       "<!-- 14 -->\r\n",
       "<g id=\"node15\" class=\"node\"><title>14</title>\r\n",
       "<polygon fill=\"none\" stroke=\"black\" points=\"897.5,-53 799.5,-53 799.5,-0 897.5,-0 897.5,-53\"/>\r\n",
       "<text text-anchor=\"middle\" x=\"848.5\" y=\"-37.8\" font-family=\"Times New Roman,serif\" font-size=\"14.00\">mse = 8.79</text>\r\n",
       "<text text-anchor=\"middle\" x=\"848.5\" y=\"-22.8\" font-family=\"Times New Roman,serif\" font-size=\"14.00\">samples = 44</text>\r\n",
       "<text text-anchor=\"middle\" x=\"848.5\" y=\"-7.8\" font-family=\"Times New Roman,serif\" font-size=\"14.00\">value = 16.834</text>\r\n",
       "</g>\r\n",
       "<!-- 12&#45;&gt;14 -->\r\n",
       "<g id=\"edge14\" class=\"edge\"><title>12&#45;&gt;14</title>\r\n",
       "<path fill=\"none\" stroke=\"black\" d=\"M773.071,-88.9485C784.75,-79.4346 797.467,-69.074 809.075,-59.6175\"/>\r\n",
       "<polygon fill=\"black\" stroke=\"black\" points=\"811.365,-62.2663 816.908,-53.2367 806.944,-56.8392 811.365,-62.2663\"/>\r\n",
       "</g>\r\n",
       "</g>\r\n",
       "</svg>\r\n"
      ],
      "text/plain": [
       "<graphviz.files.Source at 0x198c6ca7940>"
      ]
     },
     "execution_count": 6,
     "metadata": {},
     "output_type": "execute_result"
    }
   ],
   "source": [
    "dot_data = tree.export_graphviz(regr2, out_file=None)  \n",
    "graph = graphviz.Source(dot_data)  \n",
    "graph "
   ]
  },
  {
   "cell_type": "code",
   "execution_count": 7,
   "metadata": {},
   "outputs": [
    {
     "data": {
      "text/plain": [
       "Text(0,0.5,'y_test')"
      ]
     },
     "execution_count": 7,
     "metadata": {},
     "output_type": "execute_result"
    },
    {
     "data": {
      "image/png": "[encoded data removed]",
      "text/plain": [
       "<matplotlib.figure.Figure at 0x198c6d0a4a8>"
      ]
     },
     "metadata": {
      "needs_background": "light"
     },
     "output_type": "display_data"
    }
   ],
   "source": [
    "plt.scatter(pred, y_test, label='medv')\n",
    "plt.plot([0, 1], [0, 1], '--k', transform=plt.gca().transAxes)\n",
    "plt.xlabel('pred')\n",
    "plt.ylabel('y_test')"
   ]
  },
  {
   "cell_type": "code",
   "execution_count": 11,
   "metadata": {},
   "outputs": [
    {
     "data": {
      "text/plain": [
       "26.023230850097445"
      ]
     },
     "execution_count": 11,
     "metadata": {},
     "output_type": "execute_result"
    }
   ],
   "source": [
    "mean_squared_error(y_test, pred)"
   ]
  },
  {
   "cell_type": "markdown",
   "metadata": {},
   "source": [
    "- Remember that the number of samples required to populate the tree doubles for each additional level the tree grows to. Use `max_depth` to control the size of the tree to prevent overfitting.\n",
    "- Use `min_samples_split` or `min_samples_leaf` to ensure that multiple samples inform every decision in the tree, by controlling which splits will be considered. A very small number will usually mean the tree will overfit, whereas a large number will prevent the tree from learning the data. Try `min_samples_leaf=5` as an initial value. If the sample size varies greatly, a float number can be used as percentage in these two parameters. While min_samples_split can create arbitrarily small leaves, `min_samples_leaf` guarantees that each leaf has a minimum size, avoiding low-variance, over-fit leaf nodes in regression problems. \n",
    "- **min_impurity_decrease** : float, optional (default=0.)\n",
    "\n",
    "    A node will be split if this split induces a decrease of the impurity greater than or equal to this value.\n",
    "\n",
    "The weighted impurity decrease equation is the following:\n",
    "$$\n",
    "    N_t / N * (impurity - N_t_R / N_t * right_impurity\n",
    "                        - N_t_L / N_t * left_impurity)\n",
    "$$\n",
    "where N is the total number of samples, N_t is the number of samples at the current node, N_t_L is the number of samples in the left child, and N_t_R is the number of samples in the right child.\n",
    "\n",
    "N, N_t, N_t_R and N_t_L all refer to the weighted sum, if sample_weight is passed."
   ]
  },
  {
   "cell_type": "markdown",
   "metadata": {},
   "source": [
    "### Purity\n",
    "\n",
    "![Purity Measures](figures/ESL-Fig9.3.pdf)"
   ]
  },
  {
   "cell_type": "markdown",
   "metadata": {},
   "source": [
    "### Pruning\n",
    "\n",
    "\n",
    "![Pruning](figures/ISLR-Fig8.6.pdf)\n"
   ]
  },
  {
   "cell_type": "markdown",
   "metadata": {},
   "source": [
    "### Missing Values, Surrogate Variables\n",
    "\n",
    "Suppose our data has some missing predictor values in some or all of the\n",
    "variables. We might discard any observation with some missing values, but\n",
    "this could lead to serious depletion of the training set. Alternatively we\n",
    "might try to fill in (impute) the missing values, with say the mean of that\n",
    "predictor over the nonmissing observations. \n",
    "\n",
    "For tree-based models, there\n",
    "are two better approaches. The first is applicable to categorical predictors:\n",
    "we simply make a new category for “missing.” From this we might discover\n",
    "that observations with missing values for some measurement behave\n",
    "differently than those with nonmissing values. \n",
    "\n",
    "The second more general\n",
    "approach is the construction of **surrogate variables**. When considering a\n",
    "predictor for a split, we use only the observations for which that predictor\n",
    "is not missing. Having chosen the best (primary) predictor and split point,\n",
    "we form a list of surrogate predictors and split points. The first surrogate\n",
    "is the predictor and corresponding split point that best mimics the split of\n",
    "the training data achieved by the primary split. The second surrogate is\n",
    "the predictor and corresponding split point that does second best, and so\n",
    "on. When sending observations down the tree either in the training phase\n",
    "or during prediction, we use the surrogate splits in order, if the primary\n",
    "splitting predictor is missing. \n",
    "\n",
    "Surrogate splits exploit correlations between\n",
    "predictors to try and alleviate the effect of missing data. The higher the correlation\n",
    "between the missing predictor and the other predictors, the smaller\n",
    "the loss of information due to the missing value."
   ]
  },
  {
   "cell_type": "markdown",
   "metadata": {},
   "source": [
    "### h2o library\n",
    "\n"
   ]
  },
  {
   "cell_type": "code",
   "execution_count": 31,
   "metadata": {},
   "outputs": [
    {
     "name": "stdout",
     "output_type": "stream",
     "text": [
      "Checking whether there is an H2O instance running at http://localhost:54321. connected.\n"
     ]
    },
    {
     "data": {
      "text/html": [
       "<div style=\"overflow:auto\"><table style=\"width:50%\"><tr><td>H2O cluster uptime:</td>\n",
       "<td>1 min 29 secs</td></tr>\n",
       "<tr><td>H2O cluster timezone:</td>\n",
       "<td>Europe/Berlin</td></tr>\n",
       "<tr><td>H2O data parsing timezone:</td>\n",
       "<td>UTC</td></tr>\n",
       "<tr><td>H2O cluster version:</td>\n",
       "<td>3.22.1.1</td></tr>\n",
       "<tr><td>H2O cluster version age:</td>\n",
       "<td>18 days </td></tr>\n",
       "<tr><td>H2O cluster name:</td>\n",
       "<td>H2O_from_python_loecherm_dmrps1</td></tr>\n",
       "<tr><td>H2O cluster total nodes:</td>\n",
       "<td>1</td></tr>\n",
       "<tr><td>H2O cluster free memory:</td>\n",
       "<td>3.519 Gb</td></tr>\n",
       "<tr><td>H2O cluster total cores:</td>\n",
       "<td>4</td></tr>\n",
       "<tr><td>H2O cluster allowed cores:</td>\n",
       "<td>4</td></tr>\n",
       "<tr><td>H2O cluster status:</td>\n",
       "<td>locked, healthy</td></tr>\n",
       "<tr><td>H2O connection url:</td>\n",
       "<td>http://localhost:54321</td></tr>\n",
       "<tr><td>H2O connection proxy:</td>\n",
       "<td>None</td></tr>\n",
       "<tr><td>H2O internal security:</td>\n",
       "<td>False</td></tr>\n",
       "<tr><td>H2O API Extensions:</td>\n",
       "<td>Algos, AutoML, Core V3, Core V4</td></tr>\n",
       "<tr><td>Python version:</td>\n",
       "<td>3.6.4 final</td></tr></table></div>"
      ],
      "text/plain": [
       "--------------------------  -------------------------------\n",
       "H2O cluster uptime:         1 min 29 secs\n",
       "H2O cluster timezone:       Europe/Berlin\n",
       "H2O data parsing timezone:  UTC\n",
       "H2O cluster version:        3.22.1.1\n",
       "H2O cluster version age:    18 days\n",
       "H2O cluster name:           H2O_from_python_loecherm_dmrps1\n",
       "H2O cluster total nodes:    1\n",
       "H2O cluster free memory:    3.519 Gb\n",
       "H2O cluster total cores:    4\n",
       "H2O cluster allowed cores:  4\n",
       "H2O cluster status:         locked, healthy\n",
       "H2O connection url:         http://localhost:54321\n",
       "H2O connection proxy:\n",
       "H2O internal security:      False\n",
       "H2O API Extensions:         Algos, AutoML, Core V3, Core V4\n",
       "Python version:             3.6.4 final\n",
       "--------------------------  -------------------------------"
      ]
     },
     "metadata": {},
     "output_type": "display_data"
    },
    {
     "name": "stdout",
     "output_type": "stream",
     "text": [
      "Parse progress: |█████████████████████████████████████████████████████████| 100%\n"
     ]
    }
   ],
   "source": [
    "import h2o\n",
    "from h2o.estimators import H2ORandomForestEstimator\n",
    "\n",
    "h2o.init()\n",
    "\n",
    "# Load data from CSV\n",
    "data = h2o.import_file('../data/Heart.csv')"
   ]
  },
  {
   "cell_type": "code",
   "execution_count": 32,
   "metadata": {
    "scrolled": true
   },
   "outputs": [
    {
     "data": {
      "text/html": [
       "<table>\n",
       "<thead>\n",
       "<tr><th style=\"text-align: right;\">  C1</th><th style=\"text-align: right;\">  Age</th><th style=\"text-align: right;\">  Sex</th><th>ChestPain   </th><th style=\"text-align: right;\">  RestBP</th><th style=\"text-align: right;\">  Chol</th><th style=\"text-align: right;\">  Fbs</th><th style=\"text-align: right;\">  RestECG</th><th style=\"text-align: right;\">  MaxHR</th><th style=\"text-align: right;\">  ExAng</th><th style=\"text-align: right;\">  Oldpeak</th><th style=\"text-align: right;\">  Slope</th><th style=\"text-align: right;\">  Ca</th><th>Thal      </th><th>AHD  </th></tr>\n",
       "</thead>\n",
       "<tbody>\n",
       "<tr><td style=\"text-align: right;\">   1</td><td style=\"text-align: right;\">   63</td><td style=\"text-align: right;\">    1</td><td>typical     </td><td style=\"text-align: right;\">     145</td><td style=\"text-align: right;\">   233</td><td style=\"text-align: right;\">    1</td><td style=\"text-align: right;\">        2</td><td style=\"text-align: right;\">    150</td><td style=\"text-align: right;\">      0</td><td style=\"text-align: right;\">      2.3</td><td style=\"text-align: right;\">      3</td><td style=\"text-align: right;\">   0</td><td>fixed     </td><td>No   </td></tr>\n",
       "<tr><td style=\"text-align: right;\">   2</td><td style=\"text-align: right;\">   67</td><td style=\"text-align: right;\">    1</td><td>asymptomatic</td><td style=\"text-align: right;\">     160</td><td style=\"text-align: right;\">   286</td><td style=\"text-align: right;\">    0</td><td style=\"text-align: right;\">        2</td><td style=\"text-align: right;\">    108</td><td style=\"text-align: right;\">      1</td><td style=\"text-align: right;\">      1.5</td><td style=\"text-align: right;\">      2</td><td style=\"text-align: right;\">   3</td><td>normal    </td><td>Yes  </td></tr>\n",
       "<tr><td style=\"text-align: right;\">   3</td><td style=\"text-align: right;\">   67</td><td style=\"text-align: right;\">    1</td><td>asymptomatic</td><td style=\"text-align: right;\">     120</td><td style=\"text-align: right;\">   229</td><td style=\"text-align: right;\">    0</td><td style=\"text-align: right;\">        2</td><td style=\"text-align: right;\">    129</td><td style=\"text-align: right;\">      1</td><td style=\"text-align: right;\">      2.6</td><td style=\"text-align: right;\">      2</td><td style=\"text-align: right;\">   2</td><td>reversable</td><td>Yes  </td></tr>\n",
       "<tr><td style=\"text-align: right;\">   4</td><td style=\"text-align: right;\">   37</td><td style=\"text-align: right;\">    1</td><td>nonanginal  </td><td style=\"text-align: right;\">     130</td><td style=\"text-align: right;\">   250</td><td style=\"text-align: right;\">    0</td><td style=\"text-align: right;\">        0</td><td style=\"text-align: right;\">    187</td><td style=\"text-align: right;\">      0</td><td style=\"text-align: right;\">      3.5</td><td style=\"text-align: right;\">      3</td><td style=\"text-align: right;\">   0</td><td>normal    </td><td>No   </td></tr>\n",
       "<tr><td style=\"text-align: right;\">   5</td><td style=\"text-align: right;\">   41</td><td style=\"text-align: right;\">    0</td><td>nontypical  </td><td style=\"text-align: right;\">     130</td><td style=\"text-align: right;\">   204</td><td style=\"text-align: right;\">    0</td><td style=\"text-align: right;\">        2</td><td style=\"text-align: right;\">    172</td><td style=\"text-align: right;\">      0</td><td style=\"text-align: right;\">      1.4</td><td style=\"text-align: right;\">      1</td><td style=\"text-align: right;\">   0</td><td>normal    </td><td>No   </td></tr>\n",
       "<tr><td style=\"text-align: right;\">   6</td><td style=\"text-align: right;\">   56</td><td style=\"text-align: right;\">    1</td><td>nontypical  </td><td style=\"text-align: right;\">     120</td><td style=\"text-align: right;\">   236</td><td style=\"text-align: right;\">    0</td><td style=\"text-align: right;\">        0</td><td style=\"text-align: right;\">    178</td><td style=\"text-align: right;\">      0</td><td style=\"text-align: right;\">      0.8</td><td style=\"text-align: right;\">      1</td><td style=\"text-align: right;\">   0</td><td>normal    </td><td>No   </td></tr>\n",
       "<tr><td style=\"text-align: right;\">   7</td><td style=\"text-align: right;\">   62</td><td style=\"text-align: right;\">    0</td><td>asymptomatic</td><td style=\"text-align: right;\">     140</td><td style=\"text-align: right;\">   268</td><td style=\"text-align: right;\">    0</td><td style=\"text-align: right;\">        2</td><td style=\"text-align: right;\">    160</td><td style=\"text-align: right;\">      0</td><td style=\"text-align: right;\">      3.6</td><td style=\"text-align: right;\">      3</td><td style=\"text-align: right;\">   2</td><td>normal    </td><td>Yes  </td></tr>\n",
       "<tr><td style=\"text-align: right;\">   8</td><td style=\"text-align: right;\">   57</td><td style=\"text-align: right;\">    0</td><td>asymptomatic</td><td style=\"text-align: right;\">     120</td><td style=\"text-align: right;\">   354</td><td style=\"text-align: right;\">    0</td><td style=\"text-align: right;\">        0</td><td style=\"text-align: right;\">    163</td><td style=\"text-align: right;\">      1</td><td style=\"text-align: right;\">      0.6</td><td style=\"text-align: right;\">      1</td><td style=\"text-align: right;\">   0</td><td>normal    </td><td>No   </td></tr>\n",
       "<tr><td style=\"text-align: right;\">   9</td><td style=\"text-align: right;\">   63</td><td style=\"text-align: right;\">    1</td><td>asymptomatic</td><td style=\"text-align: right;\">     130</td><td style=\"text-align: right;\">   254</td><td style=\"text-align: right;\">    0</td><td style=\"text-align: right;\">        2</td><td style=\"text-align: right;\">    147</td><td style=\"text-align: right;\">      0</td><td style=\"text-align: right;\">      1.4</td><td style=\"text-align: right;\">      2</td><td style=\"text-align: right;\">   1</td><td>reversable</td><td>Yes  </td></tr>\n",
       "<tr><td style=\"text-align: right;\">  10</td><td style=\"text-align: right;\">   53</td><td style=\"text-align: right;\">    1</td><td>asymptomatic</td><td style=\"text-align: right;\">     140</td><td style=\"text-align: right;\">   203</td><td style=\"text-align: right;\">    1</td><td style=\"text-align: right;\">        2</td><td style=\"text-align: right;\">    155</td><td style=\"text-align: right;\">      1</td><td style=\"text-align: right;\">      3.1</td><td style=\"text-align: right;\">      3</td><td style=\"text-align: right;\">   0</td><td>reversable</td><td>Yes  </td></tr>\n",
       "</tbody>\n",
       "</table>"
      ]
     },
     "metadata": {},
     "output_type": "display_data"
    },
    {
     "data": {
      "text/plain": []
     },
     "execution_count": 32,
     "metadata": {},
     "output_type": "execute_result"
    }
   ],
   "source": [
    "data"
   ]
  },
  {
   "cell_type": "code",
   "execution_count": 35,
   "metadata": {},
   "outputs": [
    {
     "name": "stdout",
     "output_type": "stream",
     "text": [
      "drf Model Build progress: |███████████████████████████████████████████████| 100%\n"
     ]
    }
   ],
   "source": [
    "# Input parameters that are going to train\n",
    "training_columns = [\"Age\", \"Sex\", \"ChestPain\", \"RestBP\",\"Chol\", \"Fbs\", \"RestECG\", \"MaxHR\", \"ExAng\", \"Oldpeak\", \"Slope\", \"Ca\", \"Thal\"]\n",
    "# Output parameter train against input parameters\n",
    "response_column = 'AHD'\n",
    "\n",
    "# Split data into train and testing\n",
    "train, test = data.split_frame(ratios=[0.8])\n",
    "\n",
    "# Define model\n",
    "model = H2ORandomForestEstimator(ntrees=50, max_depth=20, nfolds=10)\n",
    "\n",
    "# Train model\n",
    "model.train(x=training_columns, y=response_column, training_frame=train)"
   ]
  },
  {
   "cell_type": "code",
   "execution_count": 37,
   "metadata": {},
   "outputs": [
    {
     "name": "stdout",
     "output_type": "stream",
     "text": [
      "\n",
      "ModelMetricsBinomial: drf\n",
      "** Reported on test data. **\n",
      "\n",
      "MSE: 0.11707761437444904\n",
      "RMSE: 0.3421660625696959\n",
      "LogLoss: 0.36842834943558556\n",
      "Mean Per-Class Error: 0.1470588235294118\n",
      "AUC: 0.9199826989619377\n",
      "pr_auc: 0.8577074664563047\n",
      "Gini: 0.8399653979238755\n",
      "Confusion Matrix (Act/Pred) for max f1 @ threshold = 0.5800000000000001: \n"
     ]
    },
    {
     "data": {
      "text/html": [
       "<div style=\"overflow:auto\"><table style=\"width:50%\"><tr><td><b></b></td>\n",
       "<td><b>No</b></td>\n",
       "<td><b>Yes</b></td>\n",
       "<td><b>Error</b></td>\n",
       "<td><b>Rate</b></td></tr>\n",
       "<tr><td>No</td>\n",
       "<td>30.0</td>\n",
       "<td>4.0</td>\n",
       "<td>0.1176</td>\n",
       "<td> (4.0/34.0)</td></tr>\n",
       "<tr><td>Yes</td>\n",
       "<td>6.0</td>\n",
       "<td>28.0</td>\n",
       "<td>0.1765</td>\n",
       "<td> (6.0/34.0)</td></tr>\n",
       "<tr><td>Total</td>\n",
       "<td>36.0</td>\n",
       "<td>32.0</td>\n",
       "<td>0.1471</td>\n",
       "<td> (10.0/68.0)</td></tr></table></div>"
      ],
      "text/plain": [
       "       No    Yes    Error    Rate\n",
       "-----  ----  -----  -------  -----------\n",
       "No     30    4      0.1176   (4.0/34.0)\n",
       "Yes    6     28     0.1765   (6.0/34.0)\n",
       "Total  36    32     0.1471   (10.0/68.0)"
      ]
     },
     "metadata": {},
     "output_type": "display_data"
    },
    {
     "name": "stdout",
     "output_type": "stream",
     "text": [
      "Maximum Metrics: Maximum metrics at their respective thresholds\n",
      "\n"
     ]
    },
    {
     "data": {
      "text/html": [
       "<div style=\"overflow:auto\"><table style=\"width:50%\"><tr><td><b>metric</b></td>\n",
       "<td><b>threshold</b></td>\n",
       "<td><b>value</b></td>\n",
       "<td><b>idx</b></td></tr>\n",
       "<tr><td>max f1</td>\n",
       "<td>0.5800000</td>\n",
       "<td>0.8484848</td>\n",
       "<td>20.0</td></tr>\n",
       "<tr><td>max f2</td>\n",
       "<td>0.2200000</td>\n",
       "<td>0.9189189</td>\n",
       "<td>33.0</td></tr>\n",
       "<tr><td>max f0point5</td>\n",
       "<td>0.64</td>\n",
       "<td>0.8766234</td>\n",
       "<td>18.0</td></tr>\n",
       "<tr><td>max accuracy</td>\n",
       "<td>0.64</td>\n",
       "<td>0.8529412</td>\n",
       "<td>18.0</td></tr>\n",
       "<tr><td>max precision</td>\n",
       "<td>1.0</td>\n",
       "<td>1.0</td>\n",
       "<td>0.0</td></tr>\n",
       "<tr><td>max recall</td>\n",
       "<td>0.2200000</td>\n",
       "<td>1.0</td>\n",
       "<td>33.0</td></tr>\n",
       "<tr><td>max specificity</td>\n",
       "<td>1.0</td>\n",
       "<td>1.0</td>\n",
       "<td>0.0</td></tr>\n",
       "<tr><td>max absolute_mcc</td>\n",
       "<td>0.64</td>\n",
       "<td>0.7108187</td>\n",
       "<td>18.0</td></tr>\n",
       "<tr><td>max min_per_class_accuracy</td>\n",
       "<td>0.5800000</td>\n",
       "<td>0.8235294</td>\n",
       "<td>20.0</td></tr>\n",
       "<tr><td>max mean_per_class_accuracy</td>\n",
       "<td>0.64</td>\n",
       "<td>0.8529412</td>\n",
       "<td>18.0</td></tr></table></div>"
      ],
      "text/plain": [
       "metric                       threshold    value     idx\n",
       "---------------------------  -----------  --------  -----\n",
       "max f1                       0.58         0.848485  20\n",
       "max f2                       0.22         0.918919  33\n",
       "max f0point5                 0.64         0.876623  18\n",
       "max accuracy                 0.64         0.852941  18\n",
       "max precision                1            1         0\n",
       "max recall                   0.22         1         33\n",
       "max specificity              1            1         0\n",
       "max absolute_mcc             0.64         0.710819  18\n",
       "max min_per_class_accuracy   0.58         0.823529  20\n",
       "max mean_per_class_accuracy  0.64         0.852941  18"
      ]
     },
     "metadata": {},
     "output_type": "display_data"
    },
    {
     "name": "stdout",
     "output_type": "stream",
     "text": [
      "Gains/Lift Table: Avg response rate: 50,00 %, avg score: 48,77 %\n",
      "\n"
     ]
    },
    {
     "data": {
      "text/html": [
       "<div style=\"overflow:auto\"><table style=\"width:50%\"><tr><td><b></b></td>\n",
       "<td><b>group</b></td>\n",
       "<td><b>cumulative_data_fraction</b></td>\n",
       "<td><b>lower_threshold</b></td>\n",
       "<td><b>lift</b></td>\n",
       "<td><b>cumulative_lift</b></td>\n",
       "<td><b>response_rate</b></td>\n",
       "<td><b>score</b></td>\n",
       "<td><b>cumulative_response_rate</b></td>\n",
       "<td><b>cumulative_score</b></td>\n",
       "<td><b>capture_rate</b></td>\n",
       "<td><b>cumulative_capture_rate</b></td>\n",
       "<td><b>gain</b></td>\n",
       "<td><b>cumulative_gain</b></td></tr>\n",
       "<tr><td></td>\n",
       "<td>1</td>\n",
       "<td>0.0294118</td>\n",
       "<td>1.0</td>\n",
       "<td>2.0</td>\n",
       "<td>2.0</td>\n",
       "<td>1.0</td>\n",
       "<td>1.0</td>\n",
       "<td>1.0</td>\n",
       "<td>1.0</td>\n",
       "<td>0.0588235</td>\n",
       "<td>0.0588235</td>\n",
       "<td>100.0</td>\n",
       "<td>100.0</td></tr>\n",
       "<tr><td></td>\n",
       "<td>2</td>\n",
       "<td>0.0294118</td>\n",
       "<td>0.9864000</td>\n",
       "<td>0.0</td>\n",
       "<td>2.0</td>\n",
       "<td>0.0</td>\n",
       "<td>0.0</td>\n",
       "<td>1.0</td>\n",
       "<td>1.0</td>\n",
       "<td>0.0</td>\n",
       "<td>0.0588235</td>\n",
       "<td>-100.0</td>\n",
       "<td>100.0</td></tr>\n",
       "<tr><td></td>\n",
       "<td>3</td>\n",
       "<td>0.0588235</td>\n",
       "<td>0.96</td>\n",
       "<td>2.0</td>\n",
       "<td>2.0</td>\n",
       "<td>1.0</td>\n",
       "<td>0.96</td>\n",
       "<td>1.0</td>\n",
       "<td>0.98</td>\n",
       "<td>0.0588235</td>\n",
       "<td>0.1176471</td>\n",
       "<td>100.0</td>\n",
       "<td>100.0</td></tr>\n",
       "<tr><td></td>\n",
       "<td>4</td>\n",
       "<td>0.0588235</td>\n",
       "<td>0.9530000</td>\n",
       "<td>0.0</td>\n",
       "<td>2.0</td>\n",
       "<td>0.0</td>\n",
       "<td>0.0</td>\n",
       "<td>1.0</td>\n",
       "<td>0.98</td>\n",
       "<td>0.0</td>\n",
       "<td>0.1176471</td>\n",
       "<td>-100.0</td>\n",
       "<td>100.0</td></tr>\n",
       "<tr><td></td>\n",
       "<td>5</td>\n",
       "<td>0.1029412</td>\n",
       "<td>0.926</td>\n",
       "<td>2.0</td>\n",
       "<td>2.0</td>\n",
       "<td>1.0</td>\n",
       "<td>0.94</td>\n",
       "<td>1.0</td>\n",
       "<td>0.9628571</td>\n",
       "<td>0.0882353</td>\n",
       "<td>0.2058824</td>\n",
       "<td>100.0</td>\n",
       "<td>100.0</td></tr>\n",
       "<tr><td></td>\n",
       "<td>6</td>\n",
       "<td>0.1617647</td>\n",
       "<td>0.879</td>\n",
       "<td>2.0</td>\n",
       "<td>2.0</td>\n",
       "<td>1.0</td>\n",
       "<td>0.8975</td>\n",
       "<td>1.0</td>\n",
       "<td>0.9390909</td>\n",
       "<td>0.1176471</td>\n",
       "<td>0.3235294</td>\n",
       "<td>100.0</td>\n",
       "<td>100.0</td></tr>\n",
       "<tr><td></td>\n",
       "<td>7</td>\n",
       "<td>0.2058824</td>\n",
       "<td>0.8033333</td>\n",
       "<td>2.0</td>\n",
       "<td>2.0</td>\n",
       "<td>1.0</td>\n",
       "<td>0.84</td>\n",
       "<td>1.0</td>\n",
       "<td>0.9178571</td>\n",
       "<td>0.0882353</td>\n",
       "<td>0.4117647</td>\n",
       "<td>100.0</td>\n",
       "<td>100.0</td></tr>\n",
       "<tr><td></td>\n",
       "<td>8</td>\n",
       "<td>0.3235294</td>\n",
       "<td>0.74</td>\n",
       "<td>1.5</td>\n",
       "<td>1.8181818</td>\n",
       "<td>0.75</td>\n",
       "<td>0.7654167</td>\n",
       "<td>0.9090909</td>\n",
       "<td>0.8624242</td>\n",
       "<td>0.1764706</td>\n",
       "<td>0.5882353</td>\n",
       "<td>50.0</td>\n",
       "<td>81.8181818</td></tr>\n",
       "<tr><td></td>\n",
       "<td>9</td>\n",
       "<td>0.4264706</td>\n",
       "<td>0.6600000</td>\n",
       "<td>1.7142857</td>\n",
       "<td>1.7931034</td>\n",
       "<td>0.8571429</td>\n",
       "<td>0.6928571</td>\n",
       "<td>0.8965517</td>\n",
       "<td>0.8214943</td>\n",
       "<td>0.1764706</td>\n",
       "<td>0.7647059</td>\n",
       "<td>71.4285714</td>\n",
       "<td>79.3103448</td></tr>\n",
       "<tr><td></td>\n",
       "<td>10</td>\n",
       "<td>0.5</td>\n",
       "<td>0.505</td>\n",
       "<td>0.8</td>\n",
       "<td>1.6470588</td>\n",
       "<td>0.4</td>\n",
       "<td>0.5800000</td>\n",
       "<td>0.8235294</td>\n",
       "<td>0.7859804</td>\n",
       "<td>0.0588235</td>\n",
       "<td>0.8235294</td>\n",
       "<td>-20.0000000</td>\n",
       "<td>64.7058824</td></tr>\n",
       "<tr><td></td>\n",
       "<td>11</td>\n",
       "<td>0.6029412</td>\n",
       "<td>0.318</td>\n",
       "<td>0.8571429</td>\n",
       "<td>1.5121951</td>\n",
       "<td>0.4285714</td>\n",
       "<td>0.3757143</td>\n",
       "<td>0.7560976</td>\n",
       "<td>0.7159350</td>\n",
       "<td>0.0882353</td>\n",
       "<td>0.9117647</td>\n",
       "<td>-14.2857143</td>\n",
       "<td>51.2195122</td></tr>\n",
       "<tr><td></td>\n",
       "<td>12</td>\n",
       "<td>0.7205882</td>\n",
       "<td>0.2200000</td>\n",
       "<td>0.75</td>\n",
       "<td>1.3877551</td>\n",
       "<td>0.375</td>\n",
       "<td>0.2537500</td>\n",
       "<td>0.6938776</td>\n",
       "<td>0.6404762</td>\n",
       "<td>0.0882353</td>\n",
       "<td>1.0</td>\n",
       "<td>-25.0</td>\n",
       "<td>38.7755102</td></tr>\n",
       "<tr><td></td>\n",
       "<td>13</td>\n",
       "<td>0.7941176</td>\n",
       "<td>0.1440000</td>\n",
       "<td>0.0</td>\n",
       "<td>1.2592593</td>\n",
       "<td>0.0</td>\n",
       "<td>0.18</td>\n",
       "<td>0.6296296</td>\n",
       "<td>0.5978395</td>\n",
       "<td>0.0</td>\n",
       "<td>1.0</td>\n",
       "<td>-100.0</td>\n",
       "<td>25.9259259</td></tr>\n",
       "<tr><td></td>\n",
       "<td>14</td>\n",
       "<td>0.8970588</td>\n",
       "<td>0.0570000</td>\n",
       "<td>0.0</td>\n",
       "<td>1.1147541</td>\n",
       "<td>0.0</td>\n",
       "<td>0.1014286</td>\n",
       "<td>0.5573770</td>\n",
       "<td>0.5408743</td>\n",
       "<td>0.0</td>\n",
       "<td>1.0</td>\n",
       "<td>-100.0</td>\n",
       "<td>11.4754098</td></tr>\n",
       "<tr><td></td>\n",
       "<td>15</td>\n",
       "<td>1.0</td>\n",
       "<td>0.0</td>\n",
       "<td>0.0</td>\n",
       "<td>1.0</td>\n",
       "<td>0.0</td>\n",
       "<td>0.0242857</td>\n",
       "<td>0.5</td>\n",
       "<td>0.4876961</td>\n",
       "<td>0.0</td>\n",
       "<td>1.0</td>\n",
       "<td>-100.0</td>\n",
       "<td>0.0</td></tr></table></div>"
      ],
      "text/plain": [
       "    group    cumulative_data_fraction    lower_threshold    lift      cumulative_lift    response_rate    score      cumulative_response_rate    cumulative_score    capture_rate    cumulative_capture_rate    gain      cumulative_gain\n",
       "--  -------  --------------------------  -----------------  --------  -----------------  ---------------  ---------  --------------------------  ------------------  --------------  -------------------------  --------  -----------------\n",
       "    1        0.0294118                   1                  2         2                  1                1          1                           1                   0.0588235       0.0588235                  100       100\n",
       "    2        0.0294118                   0.9864             0         2                  0                0          1                           1                   0               0.0588235                  -100      100\n",
       "    3        0.0588235                   0.96               2         2                  1                0.96       1                           0.98                0.0588235       0.117647                   100       100\n",
       "    4        0.0588235                   0.953              0         2                  0                0          1                           0.98                0               0.117647                   -100      100\n",
       "    5        0.102941                    0.926              2         2                  1                0.94       1                           0.962857            0.0882353       0.205882                   100       100\n",
       "    6        0.161765                    0.879              2         2                  1                0.8975     1                           0.939091            0.117647        0.323529                   100       100\n",
       "    7        0.205882                    0.803333           2         2                  1                0.84       1                           0.917857            0.0882353       0.411765                   100       100\n",
       "    8        0.323529                    0.74               1.5       1.81818            0.75             0.765417   0.909091                    0.862424            0.176471        0.588235                   50        81.8182\n",
       "    9        0.426471                    0.66               1.71429   1.7931             0.857143         0.692857   0.896552                    0.821494            0.176471        0.764706                   71.4286   79.3103\n",
       "    10       0.5                         0.505              0.8       1.64706            0.4              0.58       0.823529                    0.78598             0.0588235       0.823529                   -20       64.7059\n",
       "    11       0.602941                    0.318              0.857143  1.5122             0.428571         0.375714   0.756098                    0.715935            0.0882353       0.911765                   -14.2857  51.2195\n",
       "    12       0.720588                    0.22               0.75      1.38776            0.375            0.25375    0.693878                    0.640476            0.0882353       1                          -25       38.7755\n",
       "    13       0.794118                    0.144              0         1.25926            0                0.18       0.62963                     0.59784             0               1                          -100      25.9259\n",
       "    14       0.897059                    0.057              0         1.11475            0                0.101429   0.557377                    0.540874            0               1                          -100      11.4754\n",
       "    15       1                           0                  0         1                  0                0.0242857  0.5                         0.487696            0               1                          -100      0"
      ]
     },
     "metadata": {},
     "output_type": "display_data"
    },
    {
     "name": "stdout",
     "output_type": "stream",
     "text": [
      "\n",
      "\n"
     ]
    }
   ],
   "source": [
    "# Model performance\n",
    "performance = model.model_performance(test_data=test)\n",
    "\n",
    "print(performance)"
   ]
  },
  {
   "cell_type": "markdown",
   "metadata": {},
   "source": [
    "### 11.2 Bagging"
   ]
  },
  {
   "cell_type": "code",
   "execution_count": 10,
   "metadata": {},
   "outputs": [
    {
     "data": {
      "text/plain": [
       "BaggingRegressor(base_estimator=DecisionTreeRegressor(criterion='mse', max_depth=3, max_features=None,\n",
       "           max_leaf_nodes=None, min_impurity_decrease=0.0,\n",
       "           min_impurity_split=None, min_samples_leaf=1,\n",
       "           min_samples_split=2, min_weight_fraction_leaf=0.0,\n",
       "           presort=False, random_state=None, splitter='best'),\n",
       "         bootstrap=True, bootstrap_features=False, max_features=1.0,\n",
       "         max_samples=1.0, n_estimators=200, n_jobs=1, oob_score=False,\n",
       "         random_state=None, verbose=0, warm_start=False)"
      ]
     },
     "execution_count": 10,
     "metadata": {},
     "output_type": "execute_result"
    }
   ],
   "source": [
    "\n",
    "baggedBoston = BaggingRegressor(base_estimator=regr2,n_estimators=200)\n",
    "baggedBoston.fit(X_train, y_train)\n"
   ]
  },
  {
   "cell_type": "code",
   "execution_count": 12,
   "metadata": {},
   "outputs": [
    {
     "data": {
      "text/plain": [
       "18.37366340523632"
      ]
     },
     "execution_count": 12,
     "metadata": {},
     "output_type": "execute_result"
    }
   ],
   "source": [
    "baggedPreds = baggedBoston.predict(X_test)\n",
    "mean_squared_error(y_test, baggedPreds)"
   ]
  },
  {
   "cell_type": "markdown",
   "metadata": {},
   "source": [
    "#### Task: bag classification trees on the breast cancer data"
   ]
  },
  {
   "cell_type": "code",
   "execution_count": 13,
   "metadata": {},
   "outputs": [],
   "source": [
    "from sklearn.datasets import load_breast_cancer\n",
    "data = load_breast_cancer()"
   ]
  },
  {
   "cell_type": "markdown",
   "metadata": {},
   "source": [
    "### Out-of-Bag (OOB)"
   ]
  },
  {
   "cell_type": "code",
   "execution_count": 14,
   "metadata": {},
   "outputs": [
    {
     "data": {
      "text/plain": [
       "BaggingRegressor(base_estimator=DecisionTreeRegressor(criterion='mse', max_depth=3, max_features=None,\n",
       "           max_leaf_nodes=None, min_impurity_decrease=0.0,\n",
       "           min_impurity_split=None, min_samples_leaf=1,\n",
       "           min_samples_split=2, min_weight_fraction_leaf=0.0,\n",
       "           presort=False, random_state=None, splitter='best'),\n",
       "         bootstrap=True, bootstrap_features=False, max_features=1.0,\n",
       "         max_samples=1.0, n_estimators=200, n_jobs=1, oob_score=True,\n",
       "         random_state=None, verbose=0, warm_start=False)"
      ]
     },
     "execution_count": 14,
     "metadata": {},
     "output_type": "execute_result"
    }
   ],
   "source": [
    "baggedBoston = BaggingRegressor(base_estimator=regr2, oob_score=True, n_estimators=200)\n",
    "baggedBoston.fit(X_train, y_train)"
   ]
  },
  {
   "cell_type": "code",
   "execution_count": 16,
   "metadata": {},
   "outputs": [
    {
     "data": {
      "text/plain": [
       "0.8330884241503727"
      ]
     },
     "execution_count": 16,
     "metadata": {},
     "output_type": "execute_result"
    }
   ],
   "source": [
    "baggedBoston.oob_score_\n",
    "#task: compare with single tree"
   ]
  },
  {
   "cell_type": "markdown",
   "metadata": {},
   "source": []
  },
  {
   "cell_type": "markdown",
   "metadata": {},
   "source": [
    "### 11.3 Random Forests\n",
    "\n",
    "https://scikit-learn.org/stable/modules/generated/sklearn.ensemble.RandomForestRegressor.html"
   ]
  },
  {
   "cell_type": "code",
   "execution_count": 18,
   "metadata": {},
   "outputs": [
    {
     "data": {
      "text/plain": [
       "RandomForestRegressor(bootstrap=True, criterion='mse', max_depth=None,\n",
       "           max_features=6, max_leaf_nodes=None, min_impurity_decrease=0.0,\n",
       "           min_impurity_split=None, min_samples_leaf=1,\n",
       "           min_samples_split=2, min_weight_fraction_leaf=0.0,\n",
       "           n_estimators=200, n_jobs=1, oob_score=True, random_state=1,\n",
       "           verbose=0, warm_start=False)"
      ]
     },
     "execution_count": 18,
     "metadata": {},
     "output_type": "execute_result"
    }
   ],
   "source": [
    "# Bagging: using all features\n",
    "# RF breaks correlations even more: \n",
    "regr1 = RandomForestRegressor(max_features=6, n_estimators =200, oob_score=True,random_state=1)\n",
    "regr1.fit(X_train, y_train)"
   ]
  },
  {
   "cell_type": "code",
   "execution_count": 19,
   "metadata": {},
   "outputs": [
    {
     "data": {
      "text/plain": [
       "Text(0,0.5,'y_test')"
      ]
     },
     "execution_count": 19,
     "metadata": {},
     "output_type": "execute_result"
    },
    {
     "data": {
      "image/png": "[encoded data removed]",
      "text/plain": [
       "<matplotlib.figure.Figure at 0x198c908c470>"
      ]
     },
     "metadata": {
      "needs_background": "light"
     },
     "output_type": "display_data"
    }
   ],
   "source": [
    "pred = regr1.predict(X_test)\n",
    "\n",
    "plt.scatter(pred, y_test, label='medv')\n",
    "plt.plot([0, 1], [0, 1], '--k', transform=plt.gca().transAxes)\n",
    "plt.xlabel('pred')\n",
    "plt.ylabel('y_test')"
   ]
  },
  {
   "cell_type": "code",
   "execution_count": 20,
   "metadata": {},
   "outputs": [
    {
     "data": {
      "text/plain": [
       "15.398432322134383"
      ]
     },
     "execution_count": 20,
     "metadata": {},
     "output_type": "execute_result"
    }
   ],
   "source": [
    "mean_squared_error(y_test, pred)"
   ]
  },
  {
   "cell_type": "code",
   "execution_count": 25,
   "metadata": {},
   "outputs": [
    {
     "data": {
      "text/plain": [
       "0.9019420915329107"
      ]
     },
     "execution_count": 25,
     "metadata": {},
     "output_type": "execute_result"
    }
   ],
   "source": [
    "regr1.oob_score_"
   ]
  },
  {
   "cell_type": "code",
   "execution_count": 21,
   "metadata": {},
   "outputs": [
    {
     "data": {
      "text/plain": [
       "RandomForestRegressor(bootstrap=True, criterion='mse', max_depth=None,\n",
       "           max_features=10, max_leaf_nodes=None, min_impurity_decrease=0.0,\n",
       "           min_impurity_split=None, min_samples_leaf=1,\n",
       "           min_samples_split=2, min_weight_fraction_leaf=0.0,\n",
       "           n_estimators=200, n_jobs=1, oob_score=True, random_state=1,\n",
       "           verbose=0, warm_start=False)"
      ]
     },
     "execution_count": 21,
     "metadata": {},
     "output_type": "execute_result"
    }
   ],
   "source": [
    "# Random forests: using 10 features\n",
    "regr2 = RandomForestRegressor(max_features=10, n_estimators =200, oob_score=True, random_state=1)\n",
    "regr2.fit(X_train, y_train)"
   ]
  },
  {
   "cell_type": "code",
   "execution_count": 22,
   "metadata": {},
   "outputs": [
    {
     "data": {
      "text/plain": [
       "16.255935139328045"
      ]
     },
     "execution_count": 22,
     "metadata": {},
     "output_type": "execute_result"
    }
   ],
   "source": [
    "pred = regr2.predict(X_test)\n",
    "mean_squared_error(y_test, pred)"
   ]
  },
  {
   "cell_type": "code",
   "execution_count": 23,
   "metadata": {
    "scrolled": true
   },
   "outputs": [
    {
     "data": {
      "image/png": "[encoded data removed]",
      "text/plain": [
       "<matplotlib.figure.Figure at 0x198c8db6c50>"
      ]
     },
     "metadata": {
      "needs_background": "light"
     },
     "output_type": "display_data"
    }
   ],
   "source": [
    "Importance = pd.DataFrame({'Importance':regr2.feature_importances_*100}, index=X.columns)\n",
    "Importance.sort_values('Importance', axis=0, ascending=True).plot(kind='barh', color='r', )\n",
    "plt.xlabel('Variable Importance')\n",
    "plt.gca().legend_ = None"
   ]
  },
  {
   "cell_type": "markdown",
   "metadata": {},
   "source": [
    "### Tasks: \n",
    "- how to pass categorical features to trees/forests ?\n",
    "- fit a tree/forest to the Titanic data"
   ]
  },
  {
   "cell_type": "markdown",
   "metadata": {},
   "source": [
    "### 8.3.4 Boosting"
   ]
  },
  {
   "cell_type": "code",
   "execution_count": 26,
   "metadata": {},
   "outputs": [
    {
     "data": {
      "text/plain": [
       "GradientBoostingRegressor(alpha=0.9, criterion='friedman_mse', init=None,\n",
       "             learning_rate=0.01, loss='ls', max_depth=3, max_features=None,\n",
       "             max_leaf_nodes=None, min_impurity_decrease=0.0,\n",
       "             min_impurity_split=None, min_samples_leaf=1,\n",
       "             min_samples_split=2, min_weight_fraction_leaf=0.0,\n",
       "             n_estimators=500, presort='auto', random_state=1,\n",
       "             subsample=1.0, verbose=0, warm_start=False)"
      ]
     },
     "execution_count": 26,
     "metadata": {},
     "output_type": "execute_result"
    }
   ],
   "source": [
    "regr = GradientBoostingRegressor(n_estimators=500, learning_rate=0.01, random_state=1)\n",
    "regr.fit(X_train, y_train)"
   ]
  },
  {
   "cell_type": "code",
   "execution_count": 27,
   "metadata": {},
   "outputs": [
    {
     "name": "stdout",
     "output_type": "stream",
     "text": [
      "zn          0.170382\n",
      "rad         1.593909\n",
      "chas        1.844703\n",
      "indus       3.045285\n",
      "nox         3.284683\n",
      "tax         5.007437\n",
      "black       5.082208\n",
      "age         5.587239\n",
      "crim        6.750284\n",
      "ptratio     8.226473\n",
      "dis        10.248698\n",
      "rm         22.134290\n",
      "lstat      27.024410\n",
      "dtype: float64\n"
     ]
    },
    {
     "data": {
      "image/png": "[encoded data removed]",
      "text/plain": [
       "<matplotlib.figure.Figure at 0x198c6bd1470>"
      ]
     },
     "metadata": {
      "needs_background": "light"
     },
     "output_type": "display_data"
    }
   ],
   "source": [
    "feature_importance = regr.feature_importances_*100\n",
    "rel_imp = pd.Series(feature_importance, index=X.columns).sort_values(inplace=False)\n",
    "print(rel_imp)\n",
    "rel_imp.T.plot(kind='barh', color='r', )\n",
    "plt.xlabel('Variable Importance')\n",
    "plt.gca().legend_ = None"
   ]
  },
  {
   "cell_type": "code",
   "execution_count": 28,
   "metadata": {},
   "outputs": [
    {
     "data": {
      "text/plain": [
       "15.529710264059759"
      ]
     },
     "execution_count": 28,
     "metadata": {},
     "output_type": "execute_result"
    }
   ],
   "source": [
    "mean_squared_error(y_test, regr.predict(X_test))"
   ]
  },
  {
   "cell_type": "code",
   "execution_count": null,
   "metadata": {},
   "outputs": [],
   "source": []
  }
 ],
 "metadata": {
  "kernelspec": {
   "display_name": "Python 3",
   "language": "python",
   "name": "python3"
  },
  "language_info": {
   "codemirror_mode": {
    "name": "ipython",
    "version": 3
   },
   "file_extension": ".py",
   "mimetype": "text/x-python",
   "name": "python",
   "nbconvert_exporter": "python",
   "pygments_lexer": "ipython3",
   "version": "3.6.4"
  }
 },
 "nbformat": 4,
 "nbformat_minor": 1
}
