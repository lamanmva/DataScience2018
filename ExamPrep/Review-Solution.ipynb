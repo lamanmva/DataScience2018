{
 "cells": [
  {
   "cell_type": "code",
   "execution_count": 2,
   "metadata": {},
   "outputs": [
    {
     "data": {
      "text/html": [
       "<div>\n",
       "<style scoped>\n",
       "    .dataframe tbody tr th:only-of-type {\n",
       "        vertical-align: middle;\n",
       "    }\n",
       "\n",
       "    .dataframe tbody tr th {\n",
       "        vertical-align: top;\n",
       "    }\n",
       "\n",
       "    .dataframe thead th {\n",
       "        text-align: right;\n",
       "    }\n",
       "</style>\n",
       "<table border=\"1\" class=\"dataframe\">\n",
       "  <thead>\n",
       "    <tr style=\"text-align: right;\">\n",
       "      <th></th>\n",
       "      <th>Unnamed: 0</th>\n",
       "      <th>gender</th>\n",
       "      <th>dbirwt</th>\n",
       "    </tr>\n",
       "  </thead>\n",
       "  <tbody>\n",
       "    <tr>\n",
       "      <th>0</th>\n",
       "      <td>1</td>\n",
       "      <td>male</td>\n",
       "      <td>2551</td>\n",
       "    </tr>\n",
       "    <tr>\n",
       "      <th>1</th>\n",
       "      <td>2</td>\n",
       "      <td>male</td>\n",
       "      <td>2778</td>\n",
       "    </tr>\n",
       "    <tr>\n",
       "      <th>2</th>\n",
       "      <td>3</td>\n",
       "      <td>female</td>\n",
       "      <td>2976</td>\n",
       "    </tr>\n",
       "    <tr>\n",
       "      <th>3</th>\n",
       "      <td>4</td>\n",
       "      <td>female</td>\n",
       "      <td>3345</td>\n",
       "    </tr>\n",
       "    <tr>\n",
       "      <th>4</th>\n",
       "      <td>5</td>\n",
       "      <td>female</td>\n",
       "      <td>3175</td>\n",
       "    </tr>\n",
       "  </tbody>\n",
       "</table>\n",
       "</div>"
      ],
      "text/plain": [
       "   Unnamed: 0  gender  dbirwt\n",
       "0           1    male    2551\n",
       "1           2    male    2778\n",
       "2           3  female    2976\n",
       "3           4  female    3345\n",
       "4           5  female    3175"
      ]
     },
     "execution_count": 2,
     "metadata": {},
     "output_type": "execute_result"
    }
   ],
   "source": [
    "import numpy as np\n",
    "import matplotlib.pyplot as plt\n",
    "import pandas as pd\n",
    "import statsmodels.api as sm\n",
    "import statsmodels.formula.api as smf\n",
    "import seaborn as sns\n",
    "from scipy import stats\n",
    "stats.chisqprob = lambda chisq, df: stats.chi2.sf(chisq, df)\n",
    "\n",
    "from numpy import random \n",
    "random.seed(42)\n",
    "df = pd.read_csv('../data/BirthWeights.csv')\n",
    "boys=df[df.gender == 'male'].dbirwt\n",
    "girls=df[df.gender == 'female'].dbirwt\n",
    "df.head()"
   ]
  },
  {
   "cell_type": "markdown",
   "metadata": {},
   "source": [
    "#### 1. Describe what the following code would achieve\n",
    "\n",
    "(Fill in each comment)"
   ]
  },
  {
   "cell_type": "code",
   "execution_count": null,
   "metadata": {},
   "outputs": [],
   "source": [
    "#num of simulations\n",
    "M = 500\n",
    "# remove outliers\n",
    "df = df[np.logical_and(df.dbirwt > 500, df.dbirwt < 8000)]\n",
    "# sample size\n",
    "n=30\n",
    "# stratify by gender\n",
    "gender_iter = ['male', 'female']\n",
    "\n",
    "# set up new data frame\n",
    "columns = ['gender', 'dbirwt']\n",
    "df_new = pd.DataFrame(columns=columns)\n",
    "\n",
    "#set up empty two-column df to hold results\n",
    "std_dev = np.empty(2)\n",
    "\n",
    "# loop over gender\n",
    "for ind,v in enumerate(gender_iter):\n",
    "    subset = df[df.gender == v]\n",
    "\n",
    "    #create M random sample means of n samples and add it to df\n",
    "    for i in range(M):\n",
    "        rand_samples = np.random.choice(subset.dbirwt, n, replace=False)\n",
    "        x = np.mean(rand_samples)\n",
    "        df_new.loc[len(df_new)+1] = [v, x]\n",
    "\n",
    "    #plot male and female data and calculate the standard deviation of the data\n",
    "    plot_data = df_new[df_new.gender == v]\n",
    "    std_dev[ind] = np.std(plot_data['dbirwt'])  \n",
    "    #\n",
    "    plot_data.dbirwt.plot.density()\n",
    "    plt.xlabel('dbirwt')\n",
    "    plt.legend(gender_iter)\n"
   ]
  },
  {
   "cell_type": "markdown",
   "metadata": {},
   "source": [
    "#### 2a. What does the following function compute\n",
    "#### 2b. Describe various use cases"
   ]
  },
  {
   "cell_type": "code",
   "execution_count": null,
   "metadata": {},
   "outputs": [],
   "source": [
    "def do_sth_1(data, func, size=1):\n",
    "\n",
    "    # Initialize array \n",
    "    x = np.empty(size)\n",
    "\n",
    "    # Generate sth:\n",
    "    for i in range(size):\n",
    "        x[i] = func(np.random.choice(data, size=len(data), replace=True))\n",
    "\n",
    "    return x"
   ]
  },
  {
   "cell_type": "markdown",
   "metadata": {},
   "source": [
    "#### 3a. What does the following function compute\n",
    "#### 3b. Describe various use cases"
   ]
  },
  {
   "cell_type": "code",
   "execution_count": null,
   "metadata": {},
   "outputs": [],
   "source": [
    "def do_sth_2(data):\n",
    "\n",
    "    # Number of data points: n\n",
    "    n = len(data)\n",
    "    # \n",
    "    x = np.sort(data)\n",
    "    # \n",
    "    y = np.arange(1, n+1) / n\n",
    "    return x, y"
   ]
  },
  {
   "cell_type": "code",
   "execution_count": null,
   "metadata": {},
   "outputs": [],
   "source": [
    "#What does this plot show\n",
    "data2 = do_sth_1(boys, np.std, size=1000)\n",
    "x,y = do_sth_2(data2)\n",
    "_ = plt.plot(x,y, marker = '.', linestyle = 'none')"
   ]
  },
  {
   "cell_type": "markdown",
   "metadata": {},
   "source": [
    "#### 4a. What does the following code achieve\n",
    "#### 4b. Give the last 2 objects appropriate, official names"
   ]
  },
  {
   "cell_type": "code",
   "execution_count": null,
   "metadata": {},
   "outputs": [],
   "source": [
    "#empirical difference\n",
    "ed = np.mean(boys) - np.mean(girls)\n",
    "#gobal mean\n",
    "gm = np.mean(df.dbirwt)\n",
    "#assume Null hypothesis of equal means\n",
    "boys_shifted = boys - np.mean(boys) + gm\n",
    "girls_shifted = girls - np.mean(girls) + gm\n",
    "#bootstrap data\n",
    "bs_b = do_sth_1(boys_shifted,np.mean,100000)\n",
    "bs_g = do_sth_1(girls_shifted,np.mean,100000)\n",
    "#bootstrapped observed differences \n",
    "bs_d = bs_b - bs_g\n",
    "\n",
    "#Give the following an appropriate, official name:\n",
    "# p Value\n",
    "np.mean(bs_d >=ed)\n",
    "\n",
    "#Give the following an appropriate, official name:\n",
    "#90% confidence interval!\n",
    "[np.percentile(bs_d,5), np.percentile(bs_d,95) ]\n",
    "#95% confidence interval!\n",
    "[np.percentile(bs_d,2.5), np.percentile(bs_d,97.5) ]"
   ]
  },
  {
   "cell_type": "code",
   "execution_count": 8,
   "metadata": {},
   "outputs": [
    {
     "data": {
      "text/plain": [
       "0.06077004617743017"
      ]
     },
     "execution_count": 8,
     "metadata": {},
     "output_type": "execute_result"
    }
   ],
   "source": [
    "from scipy.stats import binom\n",
    "binom.cdf(7,1000,0.01)\n",
    "#binom.pmf(7,1000,0.01)\n",
    "binom.cdf(29,4000,0.01)"
   ]
  },
  {
   "cell_type": "markdown",
   "metadata": {},
   "source": [
    "#### 5a. Assume a click probability $p=0.01$ for a certain advertisement. In two campaigns of sizes $(1000,4000)$ respectively,  compute the probabilities that less than 0.75% of the respective ads are \"clicked on\". (write down the analytic expressions and pseudo code)\n",
    "\n",
    "stats.binom(p=0.01,k=, n = 1000)\n",
    "\n",
    "#### 5b. What would be the normal approximation for the above\n",
    "#### 5c. Explain the relationship of the questions above to the following graph"
   ]
  },
  {
   "cell_type": "code",
   "execution_count": 9,
   "metadata": {},
   "outputs": [
    {
     "data": {
      "text/plain": [
       "<matplotlib.lines.Line2D at 0x1cea9bb22e8>"
      ]
     },
     "execution_count": 9,
     "metadata": {},
     "output_type": "execute_result"
    },
    {
     "data": {
      "image/png": "[encoded data removed]",
      "text/plain": [
       "<matplotlib.figure.Figure at 0x1cea9fa42e8>"
      ]
     },
     "metadata": {
      "needs_background": "light"
     },
     "output_type": "display_data"
    }
   ],
   "source": [
    "draws = np.random.uniform(0, 1, size=(1000, 4000)) \n",
    "steps = np.where(draws <= 0.01, 1, 0)\n",
    "walks = steps.cumsum(1)\n",
    "fig = plt.figure(); ax = fig.add_subplot(1, 1, 1)\n",
    "for i in range(1,1000):\n",
    "    ax.plot(walks[i,:], 'k', linewidth=0.25, alpha=0.25)\n",
    "ax.axhline(30)"
   ]
  },
  {
   "cell_type": "code",
   "execution_count": 10,
   "metadata": {},
   "outputs": [
    {
     "data": {
      "text/plain": [
       "0.044"
      ]
     },
     "execution_count": 10,
     "metadata": {},
     "output_type": "execute_result"
    }
   ],
   "source": [
    "np.mean(walks[:,4000-1]<30)"
   ]
  },
  {
   "cell_type": "markdown",
   "metadata": {},
   "source": [
    "#### 6a. Titanic Linear Regression\n",
    "* Compute the estimated survival probability for the first 2 rows in the Titanic data set \"by hand\".\n",
    "* Explain the precise meaning of all coefficients.\n",
    "* Test the hypothesis that age did not matter for survival."
   ]
  },
  {
   "cell_type": "code",
   "execution_count": 8,
   "metadata": {},
   "outputs": [
    {
     "data": {
      "text/html": [
       "<div>\n",
       "<style scoped>\n",
       "    .dataframe tbody tr th:only-of-type {\n",
       "        vertical-align: middle;\n",
       "    }\n",
       "\n",
       "    .dataframe tbody tr th {\n",
       "        vertical-align: top;\n",
       "    }\n",
       "\n",
       "    .dataframe thead th {\n",
       "        text-align: right;\n",
       "    }\n",
       "</style>\n",
       "<table border=\"1\" class=\"dataframe\">\n",
       "  <thead>\n",
       "    <tr style=\"text-align: right;\">\n",
       "      <th></th>\n",
       "      <th>survived</th>\n",
       "      <th>pclass</th>\n",
       "      <th>sex</th>\n",
       "      <th>age</th>\n",
       "      <th>sibsp</th>\n",
       "      <th>parch</th>\n",
       "      <th>fare</th>\n",
       "      <th>embarked</th>\n",
       "      <th>class</th>\n",
       "      <th>who</th>\n",
       "      <th>adult_male</th>\n",
       "      <th>deck</th>\n",
       "      <th>embark_town</th>\n",
       "      <th>alive</th>\n",
       "      <th>alone</th>\n",
       "    </tr>\n",
       "  </thead>\n",
       "  <tbody>\n",
       "    <tr>\n",
       "      <th>0</th>\n",
       "      <td>0</td>\n",
       "      <td>3</td>\n",
       "      <td>male</td>\n",
       "      <td>22.0</td>\n",
       "      <td>1</td>\n",
       "      <td>0</td>\n",
       "      <td>7.2500</td>\n",
       "      <td>S</td>\n",
       "      <td>Third</td>\n",
       "      <td>man</td>\n",
       "      <td>True</td>\n",
       "      <td>NaN</td>\n",
       "      <td>Southampton</td>\n",
       "      <td>no</td>\n",
       "      <td>False</td>\n",
       "    </tr>\n",
       "    <tr>\n",
       "      <th>1</th>\n",
       "      <td>1</td>\n",
       "      <td>1</td>\n",
       "      <td>female</td>\n",
       "      <td>38.0</td>\n",
       "      <td>1</td>\n",
       "      <td>0</td>\n",
       "      <td>71.2833</td>\n",
       "      <td>C</td>\n",
       "      <td>First</td>\n",
       "      <td>woman</td>\n",
       "      <td>False</td>\n",
       "      <td>C</td>\n",
       "      <td>Cherbourg</td>\n",
       "      <td>yes</td>\n",
       "      <td>False</td>\n",
       "    </tr>\n",
       "    <tr>\n",
       "      <th>2</th>\n",
       "      <td>1</td>\n",
       "      <td>3</td>\n",
       "      <td>female</td>\n",
       "      <td>26.0</td>\n",
       "      <td>0</td>\n",
       "      <td>0</td>\n",
       "      <td>7.9250</td>\n",
       "      <td>S</td>\n",
       "      <td>Third</td>\n",
       "      <td>woman</td>\n",
       "      <td>False</td>\n",
       "      <td>NaN</td>\n",
       "      <td>Southampton</td>\n",
       "      <td>yes</td>\n",
       "      <td>True</td>\n",
       "    </tr>\n",
       "    <tr>\n",
       "      <th>3</th>\n",
       "      <td>1</td>\n",
       "      <td>1</td>\n",
       "      <td>female</td>\n",
       "      <td>35.0</td>\n",
       "      <td>1</td>\n",
       "      <td>0</td>\n",
       "      <td>53.1000</td>\n",
       "      <td>S</td>\n",
       "      <td>First</td>\n",
       "      <td>woman</td>\n",
       "      <td>False</td>\n",
       "      <td>C</td>\n",
       "      <td>Southampton</td>\n",
       "      <td>yes</td>\n",
       "      <td>False</td>\n",
       "    </tr>\n",
       "    <tr>\n",
       "      <th>4</th>\n",
       "      <td>0</td>\n",
       "      <td>3</td>\n",
       "      <td>male</td>\n",
       "      <td>35.0</td>\n",
       "      <td>0</td>\n",
       "      <td>0</td>\n",
       "      <td>8.0500</td>\n",
       "      <td>S</td>\n",
       "      <td>Third</td>\n",
       "      <td>man</td>\n",
       "      <td>True</td>\n",
       "      <td>NaN</td>\n",
       "      <td>Southampton</td>\n",
       "      <td>no</td>\n",
       "      <td>True</td>\n",
       "    </tr>\n",
       "  </tbody>\n",
       "</table>\n",
       "</div>"
      ],
      "text/plain": [
       "   survived  pclass     sex   age  sibsp  parch     fare embarked  class  \\\n",
       "0         0       3    male  22.0      1      0   7.2500        S  Third   \n",
       "1         1       1  female  38.0      1      0  71.2833        C  First   \n",
       "2         1       3  female  26.0      0      0   7.9250        S  Third   \n",
       "3         1       1  female  35.0      1      0  53.1000        S  First   \n",
       "4         0       3    male  35.0      0      0   8.0500        S  Third   \n",
       "\n",
       "     who  adult_male deck  embark_town alive  alone  \n",
       "0    man        True  NaN  Southampton    no  False  \n",
       "1  woman       False    C    Cherbourg   yes  False  \n",
       "2  woman       False  NaN  Southampton   yes   True  \n",
       "3  woman       False    C  Southampton   yes  False  \n",
       "4    man        True  NaN  Southampton    no   True  "
      ]
     },
     "execution_count": 8,
     "metadata": {},
     "output_type": "execute_result"
    }
   ],
   "source": [
    "titanic = sns.load_dataset('titanic')\n",
    "titanic.head()"
   ]
  },
  {
   "cell_type": "code",
   "execution_count": 9,
   "metadata": {
    "scrolled": true
   },
   "outputs": [
    {
     "data": {
      "text/html": [
       "<table class=\"simpletable\">\n",
       "<tr>\n",
       "         <td></td>           <th>coef</th>     <th>std err</th>      <th>t</th>      <th>P>|t|</th>  <th>[0.025</th>    <th>0.975]</th>  \n",
       "</tr>\n",
       "<tr>\n",
       "  <th>Intercept</th>      <td>    1.1250</td> <td>    0.051</td> <td>   22.202</td> <td> 0.000</td> <td>    1.026</td> <td>    1.225</td>\n",
       "</tr>\n",
       "<tr>\n",
       "  <th>C(sex)[T.male]</th> <td>   -0.4795</td> <td>    0.031</td> <td>  -15.608</td> <td> 0.000</td> <td>   -0.540</td> <td>   -0.419</td>\n",
       "</tr>\n",
       "<tr>\n",
       "  <th>C(pclass)[T.2]</th> <td>   -0.2077</td> <td>    0.042</td> <td>   -4.983</td> <td> 0.000</td> <td>   -0.290</td> <td>   -0.126</td>\n",
       "</tr>\n",
       "<tr>\n",
       "  <th>C(pclass)[T.3]</th> <td>   -0.4066</td> <td>    0.038</td> <td>  -10.620</td> <td> 0.000</td> <td>   -0.482</td> <td>   -0.331</td>\n",
       "</tr>\n",
       "<tr>\n",
       "  <th>age</th>            <td>   -0.0055</td> <td>    0.001</td> <td>   -5.039</td> <td> 0.000</td> <td>   -0.008</td> <td>   -0.003</td>\n",
       "</tr>\n",
       "</table>"
      ],
      "text/plain": [
       "<class 'statsmodels.iolib.table.SimpleTable'>"
      ]
     },
     "execution_count": 9,
     "metadata": {},
     "output_type": "execute_result"
    }
   ],
   "source": [
    "est = smf.ols('survived ~ age  + C(sex) +C(pclass) ', titanic).fit()\n",
    "est.summary().tables[1]"
   ]
  },
  {
   "cell_type": "markdown",
   "metadata": {},
   "source": [
    "#### 6b. Titanic Logistic Regression"
   ]
  },
  {
   "cell_type": "markdown",
   "metadata": {},
   "source": [
    "* Discuss the shortcomings of linear regression for classification tasks such as binary prediction.\n",
    "* Plot and explain the **sigmoidal** function $s(z) = 1/(1+exp(-z))$\n",
    "* Plot and explain the **logit** function.\n",
    "* Explain **log odds** and their relationship to logistic regression\n",
    "* Compute the estimated survival probability for the first 2 rows in the Titanic data set \"by hand\".\n",
    "* Explain the precise meaning of all coefficients."
   ]
  },
  {
   "cell_type": "code",
   "execution_count": 22,
   "metadata": {},
   "outputs": [
    {
     "name": "stdout",
     "output_type": "stream",
     "text": [
      "Optimization terminated successfully.\n",
      "         Current function value: 0.464023\n",
      "         Iterations 6\n"
     ]
    },
    {
     "data": {
      "text/html": [
       "<table class=\"simpletable\">\n",
       "<tr>\n",
       "         <td></td>           <th>coef</th>     <th>std err</th>      <th>z</th>      <th>P>|z|</th>  <th>[0.025</th>    <th>0.975]</th>  \n",
       "</tr>\n",
       "<tr>\n",
       "  <th>Intercept</th>      <td>    2.2971</td> <td>    0.219</td> <td>   10.490</td> <td> 0.000</td> <td>    1.868</td> <td>    2.726</td>\n",
       "</tr>\n",
       "<tr>\n",
       "  <th>C(pclass)[T.2]</th> <td>   -0.8380</td> <td>    0.245</td> <td>   -3.424</td> <td> 0.001</td> <td>   -1.318</td> <td>   -0.358</td>\n",
       "</tr>\n",
       "<tr>\n",
       "  <th>C(pclass)[T.3]</th> <td>   -1.9055</td> <td>    0.214</td> <td>   -8.898</td> <td> 0.000</td> <td>   -2.325</td> <td>   -1.486</td>\n",
       "</tr>\n",
       "<tr>\n",
       "  <th>C(sex)[T.male]</th> <td>   -2.6419</td> <td>    0.184</td> <td>  -14.350</td> <td> 0.000</td> <td>   -3.003</td> <td>   -2.281</td>\n",
       "</tr>\n",
       "</table>"
      ],
      "text/plain": [
       "<class 'statsmodels.iolib.table.SimpleTable'>"
      ]
     },
     "execution_count": 22,
     "metadata": {},
     "output_type": "execute_result"
    }
   ],
   "source": [
    "log_reg = smf.logit('survived ~  C(pclass) + C(sex)', data=titanic)\n",
    "log_reg.fit().summary().tables[1]"
   ]
  },
  {
   "cell_type": "markdown",
   "metadata": {},
   "source": [
    "#### 7 General Learning Theory\n",
    "\n",
    "* What are the \"model flexibility\" parameters for \n",
    "    * k nearest neighbors\n",
    "    * linear regression\n",
    "    * L1, L2 regression and elastic net\n",
    "    * trees\n",
    "    * random forests\n",
    "* Which modeling methods can deal with *missing values* ?\n",
    "* Discuss common methods of dealing with *missing values*.\n",
    "* Which modeling methods benefit from \"scaling\" all predictors?\n",
    "* When might you want to transform your y-variable (log, sqrt, ..)?\n",
    "* Explain the bias/variance tradeoff\n",
    "    * Discuss the various \"signal/noise\" settings \n",
    "* Explain *bagging*\n",
    "* Explain *dummy coding*\n",
    "* Explain and (draw a picture for) *cross validation*.\n",
    "* What are *interaction terms* ?\n",
    "* What are type-I/type-II errors?\n",
    "* Given the following classification predictions for various thresholds, draw an ROC curve:"
   ]
  },
  {
   "cell_type": "code",
   "execution_count": 23,
   "metadata": {},
   "outputs": [
    {
     "name": "stdout",
     "output_type": "stream",
     "text": [
      "Optimization terminated successfully.\n",
      "         Current function value: 0.464023\n",
      "         Iterations 6\n"
     ]
    },
    {
     "data": {
      "text/html": [
       "<div>\n",
       "<style scoped>\n",
       "    .dataframe tbody tr th:only-of-type {\n",
       "        vertical-align: middle;\n",
       "    }\n",
       "\n",
       "    .dataframe tbody tr th {\n",
       "        vertical-align: top;\n",
       "    }\n",
       "\n",
       "    .dataframe thead th {\n",
       "        text-align: right;\n",
       "    }\n",
       "</style>\n",
       "<table border=\"1\" class=\"dataframe\">\n",
       "  <thead>\n",
       "    <tr style=\"text-align: right;\">\n",
       "      <th>survived</th>\n",
       "      <th>0</th>\n",
       "      <th>1</th>\n",
       "    </tr>\n",
       "    <tr>\n",
       "      <th>row_0</th>\n",
       "      <th></th>\n",
       "      <th></th>\n",
       "    </tr>\n",
       "  </thead>\n",
       "  <tbody>\n",
       "    <tr>\n",
       "      <th>False</th>\n",
       "      <td>468</td>\n",
       "      <td>109</td>\n",
       "    </tr>\n",
       "    <tr>\n",
       "      <th>True</th>\n",
       "      <td>81</td>\n",
       "      <td>233</td>\n",
       "    </tr>\n",
       "  </tbody>\n",
       "</table>\n",
       "</div>"
      ],
      "text/plain": [
       "survived    0    1\n",
       "row_0             \n",
       "False     468  109\n",
       "True       81  233"
      ]
     },
     "execution_count": 23,
     "metadata": {},
     "output_type": "execute_result"
    }
   ],
   "source": [
    "y_pred = log_reg.fit().predict() \n",
    "#y_pred_prob = y_pred[:,1]\n",
    "pd.crosstab(y_pred>0.5,titanic.survived) "
   ]
  },
  {
   "cell_type": "markdown",
   "metadata": {},
   "source": [
    "#### 8 Penalized Regression\n",
    "\n",
    "Exercises 6.8 from ISLR book\n",
    "\n",
    "* 2\n",
    "* 3\n",
    "* 4\n"
   ]
  },
  {
   "cell_type": "markdown",
   "metadata": {},
   "source": [
    "#### 9 Trees\n",
    "\n",
    "We fit the following (pruned) tree on the Titanic data:\n",
    "![](../Lessons/figures/TitanicTreePruned.png)\n",
    "\n",
    "The confusion matrix w.r.t. to passenger class for node 5 is\n",
    "![](../Lessons/figures/ConfMatrixTitanicTreeNode5.png)\n",
    "\n",
    "\n",
    "* Would you split node 5 further ? Compute the Gini index for each of the two children, where the left split contains Pclass 1 and 2 and the right split Pclass 3. Compare with Gini index of node 5.  \n",
    "\n",
    "* Our main textbook defines the true positive rate (TPR) as the fraction of true positives over the total number of actual positivess in the data. Compute the TPR for the tree if we employ a threshold of $0.5$. (We naturally define \"Survived\" as the positive event!)\n",
    "\n",
    "![](../Lessons/figures/ConfMatrixTitanicTreeNodePreds.png)"
   ]
  },
  {
   "cell_type": "code",
   "execution_count": 24,
   "metadata": {},
   "outputs": [
    {
     "ename": "TypeError",
     "evalue": "list indices must be integers or slices, not tuple",
     "output_type": "error",
     "traceback": [
      "\u001b[1;31m---------------------------------------------------------------------------\u001b[0m",
      "\u001b[1;31mTypeError\u001b[0m                                 Traceback (most recent call last)",
      "\u001b[1;32m<ipython-input-24-f22f78275509>\u001b[0m in \u001b[0;36m<module>\u001b[1;34m()\u001b[0m\n\u001b[1;32m----> 1\u001b[1;33m \u001b[1;33m[\u001b[0m\u001b[1;33m[\u001b[0m\u001b[1;36m460\u001b[0m\u001b[1;33m,\u001b[0m\u001b[1;36m89\u001b[0m\u001b[1;33m]\u001b[0m\u001b[1;33m[\u001b[0m\u001b[1;36m93\u001b[0m\u001b[1;33m,\u001b[0m\u001b[1;36m249\u001b[0m\u001b[1;33m]\u001b[0m\u001b[1;33m]\u001b[0m\u001b[1;33m\u001b[0m\u001b[0m\n\u001b[0m",
      "\u001b[1;31mTypeError\u001b[0m: list indices must be integers or slices, not tuple"
     ]
    }
   ],
   "source": [
    "#[[460,89][93,249]]"
   ]
  },
  {
   "cell_type": "code",
   "execution_count": null,
   "metadata": {},
   "outputs": [],
   "source": []
  }
 ],
 "metadata": {
  "kernelspec": {
   "display_name": "Python 3",
   "language": "python",
   "name": "python3"
  },
  "language_info": {
   "codemirror_mode": {
    "name": "ipython",
    "version": 3
   },
   "file_extension": ".py",
   "mimetype": "text/x-python",
   "name": "python",
   "nbconvert_exporter": "python",
   "pygments_lexer": "ipython3",
   "version": "3.6.4"
  }
 },
 "nbformat": 4,
 "nbformat_minor": 2
}
